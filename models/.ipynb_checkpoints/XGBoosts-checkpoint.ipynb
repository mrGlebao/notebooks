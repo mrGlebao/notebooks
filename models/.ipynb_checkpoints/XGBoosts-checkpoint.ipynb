{
 "cells": [
  {
   "cell_type": "code",
   "execution_count": 121,
   "metadata": {},
   "outputs": [],
   "source": [
    "import numpy as np\n",
    "import pandas as pd\n",
    "from pandas import Series, DataFrame\n",
    "from sklearn.model_selection import train_test_split\n",
    "from sklearn.metrics import mean_absolute_error\n",
    "import xgboost as xgb"
   ]
  },
  {
   "cell_type": "code",
   "execution_count": 122,
   "metadata": {},
   "outputs": [],
   "source": [
    "from matplotlib import pyplot as plt\n",
    "from matplotlib import pylab as plb\n",
    "from matplotlib import cm as cm\n",
    "%matplotlib inline"
   ]
  },
  {
   "cell_type": "code",
   "execution_count": 123,
   "metadata": {},
   "outputs": [
    {
     "data": {
      "text/html": [
       "<div>\n",
       "<style scoped>\n",
       "    .dataframe tbody tr th:only-of-type {\n",
       "        vertical-align: middle;\n",
       "    }\n",
       "\n",
       "    .dataframe tbody tr th {\n",
       "        vertical-align: top;\n",
       "    }\n",
       "\n",
       "    .dataframe thead th {\n",
       "        text-align: right;\n",
       "    }\n",
       "</style>\n",
       "<table border=\"1\" class=\"dataframe\">\n",
       "  <thead>\n",
       "    <tr style=\"text-align: right;\">\n",
       "      <th></th>\n",
       "      <th>id</th>\n",
       "      <th>timestamp</th>\n",
       "      <th>full_sq</th>\n",
       "      <th>life_sq</th>\n",
       "      <th>floor</th>\n",
       "      <th>max_floor</th>\n",
       "      <th>material</th>\n",
       "      <th>build_year</th>\n",
       "      <th>num_room</th>\n",
       "      <th>kitch_sq</th>\n",
       "      <th>...</th>\n",
       "      <th>cafe_count_5000_price_2500</th>\n",
       "      <th>cafe_count_5000_price_4000</th>\n",
       "      <th>cafe_count_5000_price_high</th>\n",
       "      <th>big_church_count_5000</th>\n",
       "      <th>church_count_5000</th>\n",
       "      <th>mosque_count_5000</th>\n",
       "      <th>leisure_count_5000</th>\n",
       "      <th>sport_count_5000</th>\n",
       "      <th>market_count_5000</th>\n",
       "      <th>price_doc</th>\n",
       "    </tr>\n",
       "  </thead>\n",
       "  <tbody>\n",
       "    <tr>\n",
       "      <th>0</th>\n",
       "      <td>1</td>\n",
       "      <td>2011-08-20</td>\n",
       "      <td>43.0</td>\n",
       "      <td>27.0</td>\n",
       "      <td>4.0</td>\n",
       "      <td>NaN</td>\n",
       "      <td>NaN</td>\n",
       "      <td>NaN</td>\n",
       "      <td>NaN</td>\n",
       "      <td>NaN</td>\n",
       "      <td>...</td>\n",
       "      <td>9</td>\n",
       "      <td>4</td>\n",
       "      <td>0</td>\n",
       "      <td>13</td>\n",
       "      <td>22</td>\n",
       "      <td>1</td>\n",
       "      <td>0</td>\n",
       "      <td>52</td>\n",
       "      <td>4</td>\n",
       "      <td>5850000</td>\n",
       "    </tr>\n",
       "    <tr>\n",
       "      <th>1</th>\n",
       "      <td>2</td>\n",
       "      <td>2011-08-23</td>\n",
       "      <td>34.0</td>\n",
       "      <td>19.0</td>\n",
       "      <td>3.0</td>\n",
       "      <td>NaN</td>\n",
       "      <td>NaN</td>\n",
       "      <td>NaN</td>\n",
       "      <td>NaN</td>\n",
       "      <td>NaN</td>\n",
       "      <td>...</td>\n",
       "      <td>15</td>\n",
       "      <td>3</td>\n",
       "      <td>0</td>\n",
       "      <td>15</td>\n",
       "      <td>29</td>\n",
       "      <td>1</td>\n",
       "      <td>10</td>\n",
       "      <td>66</td>\n",
       "      <td>14</td>\n",
       "      <td>6000000</td>\n",
       "    </tr>\n",
       "    <tr>\n",
       "      <th>2</th>\n",
       "      <td>3</td>\n",
       "      <td>2011-08-27</td>\n",
       "      <td>43.0</td>\n",
       "      <td>29.0</td>\n",
       "      <td>2.0</td>\n",
       "      <td>NaN</td>\n",
       "      <td>NaN</td>\n",
       "      <td>NaN</td>\n",
       "      <td>NaN</td>\n",
       "      <td>NaN</td>\n",
       "      <td>...</td>\n",
       "      <td>10</td>\n",
       "      <td>3</td>\n",
       "      <td>0</td>\n",
       "      <td>11</td>\n",
       "      <td>27</td>\n",
       "      <td>0</td>\n",
       "      <td>4</td>\n",
       "      <td>67</td>\n",
       "      <td>10</td>\n",
       "      <td>5700000</td>\n",
       "    </tr>\n",
       "    <tr>\n",
       "      <th>3</th>\n",
       "      <td>4</td>\n",
       "      <td>2011-09-01</td>\n",
       "      <td>89.0</td>\n",
       "      <td>50.0</td>\n",
       "      <td>9.0</td>\n",
       "      <td>NaN</td>\n",
       "      <td>NaN</td>\n",
       "      <td>NaN</td>\n",
       "      <td>NaN</td>\n",
       "      <td>NaN</td>\n",
       "      <td>...</td>\n",
       "      <td>11</td>\n",
       "      <td>2</td>\n",
       "      <td>1</td>\n",
       "      <td>4</td>\n",
       "      <td>4</td>\n",
       "      <td>0</td>\n",
       "      <td>0</td>\n",
       "      <td>26</td>\n",
       "      <td>3</td>\n",
       "      <td>13100000</td>\n",
       "    </tr>\n",
       "    <tr>\n",
       "      <th>4</th>\n",
       "      <td>5</td>\n",
       "      <td>2011-09-05</td>\n",
       "      <td>77.0</td>\n",
       "      <td>77.0</td>\n",
       "      <td>4.0</td>\n",
       "      <td>NaN</td>\n",
       "      <td>NaN</td>\n",
       "      <td>NaN</td>\n",
       "      <td>NaN</td>\n",
       "      <td>NaN</td>\n",
       "      <td>...</td>\n",
       "      <td>319</td>\n",
       "      <td>108</td>\n",
       "      <td>17</td>\n",
       "      <td>135</td>\n",
       "      <td>236</td>\n",
       "      <td>2</td>\n",
       "      <td>91</td>\n",
       "      <td>195</td>\n",
       "      <td>14</td>\n",
       "      <td>16331452</td>\n",
       "    </tr>\n",
       "  </tbody>\n",
       "</table>\n",
       "<p>5 rows × 292 columns</p>\n",
       "</div>"
      ],
      "text/plain": [
       "   id   timestamp  full_sq  life_sq  floor  max_floor  material  build_year  \\\n",
       "0   1  2011-08-20     43.0     27.0    4.0        NaN       NaN         NaN   \n",
       "1   2  2011-08-23     34.0     19.0    3.0        NaN       NaN         NaN   \n",
       "2   3  2011-08-27     43.0     29.0    2.0        NaN       NaN         NaN   \n",
       "3   4  2011-09-01     89.0     50.0    9.0        NaN       NaN         NaN   \n",
       "4   5  2011-09-05     77.0     77.0    4.0        NaN       NaN         NaN   \n",
       "\n",
       "   num_room  kitch_sq    ...      cafe_count_5000_price_2500  \\\n",
       "0       NaN       NaN    ...                               9   \n",
       "1       NaN       NaN    ...                              15   \n",
       "2       NaN       NaN    ...                              10   \n",
       "3       NaN       NaN    ...                              11   \n",
       "4       NaN       NaN    ...                             319   \n",
       "\n",
       "  cafe_count_5000_price_4000 cafe_count_5000_price_high  \\\n",
       "0                          4                          0   \n",
       "1                          3                          0   \n",
       "2                          3                          0   \n",
       "3                          2                          1   \n",
       "4                        108                         17   \n",
       "\n",
       "   big_church_count_5000  church_count_5000  mosque_count_5000  \\\n",
       "0                     13                 22                  1   \n",
       "1                     15                 29                  1   \n",
       "2                     11                 27                  0   \n",
       "3                      4                  4                  0   \n",
       "4                    135                236                  2   \n",
       "\n",
       "   leisure_count_5000  sport_count_5000  market_count_5000  price_doc  \n",
       "0                   0                52                  4    5850000  \n",
       "1                  10                66                 14    6000000  \n",
       "2                   4                67                 10    5700000  \n",
       "3                   0                26                  3   13100000  \n",
       "4                  91               195                 14   16331452  \n",
       "\n",
       "[5 rows x 292 columns]"
      ]
     },
     "execution_count": 123,
     "metadata": {},
     "output_type": "execute_result"
    }
   ],
   "source": [
    "train = pd.read_csv(\"./../cleaning/train_clean.csv\", encoding= \"utf_8\")\n",
    "test = pd.read_csv(\"./../cleaning/test_clean.csv\", encoding= \"utf_8\")\n",
    "# train_test = pd.concat\n",
    "train.head()"
   ]
  },
  {
   "cell_type": "markdown",
   "metadata": {},
   "source": [
    "Сравним несколько моделей xgboost, полученных на различных множествах параметров."
   ]
  },
  {
   "cell_type": "code",
   "execution_count": 124,
   "metadata": {},
   "outputs": [],
   "source": [
    "all_feature_cols = test.columns"
   ]
  },
  {
   "cell_type": "code",
   "execution_count": 125,
   "metadata": {},
   "outputs": [],
   "source": [
    "building_columns = ['max_floor', 'material', 'build_year', 'ID_metro', 'metro_min_avto', 'metro_km_avto', 'metro_min_walk', \n",
    "            'metro_km_walk', 'kindergarten_km', 'school_km', 'park_km', 'green_zone_km', 'industrial_km', 'water_treatment_km', \n",
    "            'cemetery_km', 'incineration_km', 'railroad_station_walk_km', 'railroad_station_walk_min', 'ID_railroad_station_walk',\n",
    "            'railroad_station_avto_km', 'railroad_station_avto_min', 'ID_railroad_station_avto', 'public_transport_station_km',\n",
    "            'public_transport_station_min_walk', 'water_km', 'water_1line', 'mkad_km', 'ttk_km', 'sadovoe_km', 'bulvar_ring_km',\n",
    "            'kremlin_km', 'big_road1_km', 'ID_big_road1', 'big_road1_1line', 'big_road2_km', 'ID_big_road2', 'railroad_km', \n",
    "            'railroad_1line', 'zd_vokzaly_avto_km', 'ID_railroad_terminal', 'bus_terminal_avto_km', 'ID_bus_terminal', \n",
    "            'oil_chemistry_km', 'nuclear_reactor_km', 'radiation_km', 'power_transmission_line_km', 'thermal_power_plant_km',\n",
    "            'ts_km', 'big_market_km', 'market_shop_km', 'fitness_km', 'swim_pool_km', 'ice_rink_km', 'stadium_km', 'basketball_km',\n",
    "            'hospice_morgue_km', 'detention_facility_km', 'public_healthcare_km', 'university_km', 'workplaces_km', \n",
    "            'shopping_centers_km', 'office_km', 'additional_education_km', 'preschool_km', 'big_church_km', 'church_synagogue_km',\n",
    "            'mosque_km', 'theater_km', 'museum_km', 'exhibition_km', 'catering_km', 'ecology', \n",
    "           ]"
   ]
  },
  {
   "cell_type": "code",
   "execution_count": 126,
   "metadata": {},
   "outputs": [],
   "source": [
    "district_columns = ['raion_popul','sub_area', 'green_zone_part', 'indust_part', 'children_preschool', 'preschool_quota', \n",
    "            'preschool_education_centers_raion', 'children_school', 'school_quota', 'school_education_centers_raion',\n",
    "           'school_education_centers_top_20_raion', 'hospital_beds_raion', 'healthcare_centers_raion', 'university_top_20_raion',\n",
    "            'sport_objects_raion', 'additional_education_raion', 'culture_objects_top_25', 'culture_objects_top_25_raion', \n",
    "            'shopping_centers_raion', 'office_raion', 'thermal_power_plant_raion', 'incineration_raion', 'oil_chemistry_raion',\n",
    "            'radiation_raion', 'railroad_terminal_raion', 'big_market_raion', 'nuclear_reactor_raion', 'detention_facility_raion',\n",
    "            'full_all', 'male_f', 'female_f', 'young_all', 'young_male', 'young_female', 'work_all', 'work_male', 'work_female',\n",
    "            'ekder_all', 'ekder_male','ekder_female', '0_6_all', '0_6_male', '0_6_female', '7_14_all', '7_14_male', '7_14_female',\n",
    "            '0_17_all', '0_17_male', '0_17_female', '16_29_all', '16_29_male', '16_29_female', '0_13_all', '0_13_male', \n",
    "            '0_13_female', 'raion_build_count_with_material_info', 'build_count_block', 'build_count_wood', 'build_count_frame',\n",
    "            'build_count_brick','build_count_monolith', 'build_count_panel', 'build_count_foam', 'build_count_slag', \n",
    "            'build_count_mix', 'raion_build_count_with_builddate_info', 'build_count_before_1920', 'build_count_1921-1945',\n",
    "            'build_count_1946-1970', 'build_count_1971-1995', 'build_count_after_1995',\n",
    "           ]"
   ]
  },
  {
   "cell_type": "code",
   "execution_count": 127,
   "metadata": {},
   "outputs": [],
   "source": [
    "unknown_columns = ['product_type','area_m', 'green_part_500', 'prom_part_500', 'office_count_500', 'office_sqm_500', \n",
    "           'trc_count_500', 'trc_sqm_500', 'cafe_count_500', 'cafe_sum_500_min_price_avg', 'cafe_sum_500_max_price_avg',\n",
    "           'cafe_avg_price_500', 'cafe_count_500_na_price', 'cafe_count_500_price_500', 'cafe_count_500_price_1000', \n",
    "           'cafe_count_500_price_1500', 'cafe_count_500_price_2500', 'cafe_count_500_price_4000', 'cafe_count_500_price_high',\n",
    "           'big_church_count_500', 'church_count_500', 'mosque_count_500', 'leisure_count_500', 'sport_count_500', \n",
    "           'market_count_500', 'green_part_1000', 'prom_part_1000', 'office_count_1000', 'office_sqm_1000', 'trc_count_1000',\n",
    "           'trc_sqm_1000', 'cafe_count_1000', 'cafe_sum_1000_min_price_avg', 'cafe_sum_1000_max_price_avg', 'cafe_avg_price_1000',\n",
    "           'cafe_count_1000_na_price', 'cafe_count_1000_price_500', 'cafe_count_1000_price_1000', 'cafe_count_1000_price_1500',\n",
    "           'cafe_count_1000_price_2500','cafe_count_1000_price_4000','cafe_count_1000_price_high','big_church_count_1000',\n",
    "           'church_count_1000','mosque_count_1000','leisure_count_1000','sport_count_1000','market_count_1000','green_part_1500',\n",
    "           'prom_part_1500','office_count_1500','office_sqm_1500','trc_count_1500','trc_sqm_1500','cafe_count_1500',\n",
    "           'cafe_sum_1500_min_price_avg','cafe_sum_1500_max_price_avg','cafe_avg_price_1500','cafe_count_1500_na_price',\n",
    "           'cafe_count_1500_price_500','cafe_count_1500_price_1000','cafe_count_1500_price_1500','cafe_count_1500_price_2500',\n",
    "           'cafe_count_1500_price_4000','cafe_count_1500_price_high','big_church_count_1500','church_count_1500',\n",
    "           'mosque_count_1500','leisure_count_1500', 'sport_count_1500','market_count_1500','green_part_2000','prom_part_2000',\n",
    "           'office_count_2000','office_sqm_2000','trc_count_2000','trc_sqm_2000','cafe_count_2000','cafe_sum_2000_min_price_avg',\n",
    "           'cafe_sum_2000_max_price_avg','cafe_avg_price_2000','cafe_count_2000_na_price','cafe_count_2000_price_500',\n",
    "           'cafe_count_2000_price_1000','cafe_count_2000_price_1500','cafe_count_2000_price_2500','cafe_count_2000_price_4000',\n",
    "           'cafe_count_2000_price_high','big_church_count_2000', 'church_count_2000','mosque_count_2000','leisure_count_2000',\n",
    "           'sport_count_2000','market_count_2000','green_part_3000','prom_part_3000','office_count_3000','office_sqm_3000',\n",
    "           'trc_count_3000', 'trc_sqm_3000','cafe_count_3000','cafe_sum_3000_min_price_avg','cafe_sum_3000_max_price_avg',\n",
    "           'cafe_avg_price_3000','cafe_count_3000_na_price','cafe_count_3000_price_500','cafe_count_3000_price_1000',\n",
    "           'cafe_count_3000_price_1500','cafe_count_3000_price_2500', 'cafe_count_3000_price_4000','cafe_count_3000_price_high',\n",
    "           'big_church_count_3000','church_count_3000','mosque_count_3000','leisure_count_3000','sport_count_3000',\n",
    "           'market_count_3000','green_part_5000','prom_part_5000', 'office_count_5000','office_sqm_5000','trc_count_5000',\n",
    "           'trc_sqm_5000','cafe_count_5000','cafe_sum_5000_min_price_avg','cafe_sum_5000_max_price_avg','cafe_avg_price_5000',\n",
    "           'cafe_count_5000_na_price','cafe_count_5000_price_500', 'cafe_count_5000_price_1000','cafe_count_5000_price_1500',\n",
    "           'cafe_count_5000_price_2500','cafe_count_5000_price_4000','cafe_count_5000_price_high','big_church_count_5000',\n",
    "           'church_count_5000','mosque_count_5000','leisure_count_5000','sport_count_5000', 'market_count_5000',\n",
    "          ]"
   ]
  },
  {
   "cell_type": "code",
   "execution_count": 128,
   "metadata": {},
   "outputs": [],
   "source": [
    "flat_columns = ['full_sq','life_sq', 'floor', 'num_room', 'kitch_sq', 'state',  ]"
   ]
  },
  {
   "cell_type": "code",
   "execution_count": 129,
   "metadata": {},
   "outputs": [],
   "source": [
    "def xgbModel(cols):\n",
    "    for f in cols:\n",
    "        if train[f].dtype=='object':\n",
    "            lbl = LabelEncoder()\n",
    "            lbl.fit(list(train[f].values)) \n",
    "            train[f] = lbl.transform(list(train[f].values))\n",
    "\n",
    "    train_y = train.price_doc.values\n",
    "    train_X = train.loc[:,cols]\n",
    "\n",
    "    xgb_params = {\n",
    "        'eta': 0.05,\n",
    "        'max_depth': 8,\n",
    "        'subsample': 0.7,\n",
    "        'colsample_bytree': 0.7,\n",
    "        'objective': 'reg:linear',\n",
    "        'eval_metric': 'rmse',\n",
    "        'silent': 1\n",
    "    }\n",
    "    \n",
    "    dtrain = xgb.DMatrix(train_X, train_y, feature_names=train_X.columns.values)\n",
    "    model = xgb.train(dict(xgb_params, silent=0), dtrain, num_boost_round=100)\n",
    "    # plot the important features #\n",
    "    fig, ax = plt.subplots(figsize=(12,18))\n",
    "    xgb.plot_importance(model, max_num_features=50, height=0.8, ax=ax)\n",
    "    plt.show()"
   ]
  },
  {
   "cell_type": "code",
   "execution_count": 130,
   "metadata": {},
   "outputs": [],
   "source": [
    "from sklearn.preprocessing import Imputer, LabelEncoder"
   ]
  },
  {
   "cell_type": "code",
   "execution_count": 131,
   "metadata": {},
   "outputs": [],
   "source": [
    "def xgbModel2(cols):\n",
    "    for f in cols:\n",
    "        if train[f].dtype=='object':\n",
    "            lbl = LabelEncoder()\n",
    "            lbl.fit(list(train[f].values)) \n",
    "            train[f] = lbl.transform(list(train[f].values))\n",
    "\n",
    "    X_train, X_test, y_train, y_test = train_test_split(train.loc[:,cols], train.price_doc.values, test_size=0.3)\n",
    "    \n",
    "    X_train = pd.DataFrame(X_train)\n",
    "    X_train.columns = cols\n",
    "    \n",
    "    X_test = pd.DataFrame(X_test)\n",
    "    X_test.columns = cols\n",
    "    \n",
    "    \n",
    "    xgb_params = {\n",
    "        'eta': 0.05,\n",
    "        'max_depth': 5,\n",
    "        'subsample': 0.7,\n",
    "        'colsample_bytree': 0.7,\n",
    "        'objective': 'reg:linear',\n",
    "        'eval_metric': 'rmse',\n",
    "        'silent': 1\n",
    "    }\n",
    "    \n",
    "    dtrain = xgb.DMatrix(X_train, y_train, feature_names=X_train.columns.values)\n",
    "    model = xgb.train(dict(xgb_params, silent=0), dtrain, num_boost_round=100)\n",
    "    \n",
    "    y_pred = model.predict(xgb.DMatrix(X_test))\n",
    "    accuracy = mean_absolute_error(y_test, y_pred)\n",
    "    print 'mae'\n",
    "    print round(accuracy, -4)\n",
    "    print 'percent'\n",
    "    print np.mean(np.absolute((y_pred- y_test)/y_pred))\n",
    "#     xgb.plot_tree(model, num_trees=1)\n",
    "#     fig = plt.gcf()\n",
    "#     fig.set_size_inches(300, 300)\n",
    "#     fig.savefig('tree.png')\n",
    "#     plt.ylabel('actual', fontsize=12)\n",
    "#     plt.xlabel('predicted', fontsize=12)\n",
    "#     plt.show()\n",
    "    \n",
    "    # plot the important features #\n",
    "    fig, ax = plt.subplots(figsize=(12,18))\n",
    "    xgb.plot_importance(model, max_num_features=50, height=0.8, ax=ax)\n",
    "    plt.show()\n",
    "    return model"
   ]
  },
  {
   "cell_type": "code",
   "execution_count": 132,
   "metadata": {},
   "outputs": [
    {
     "name": "stdout",
     "output_type": "stream",
     "text": [
      "mae\n",
      "1440000.0\n",
      "percent\n",
      "0.1899159280013768\n"
     ]
    }
   ],
   "source": [
    "all_feature_model = xgbModel2(all_feature_cols)"
   ]
  },
  {
   "cell_type": "code",
   "execution_count": 133,
   "metadata": {
    "scrolled": false
   },
   "outputs": [
    {
     "name": "stdout",
     "output_type": "stream",
     "text": [
      "mae\n",
      "2010000.0\n",
      "percent\n",
      "0.2651252063353429\n"
     ]
    }
   ],
   "source": [
    "flat_model = xgbModel2(cols=flat_columns)"
   ]
  },
  {
   "cell_type": "code",
   "execution_count": 134,
   "metadata": {},
   "outputs": [
    {
     "name": "stdout",
     "output_type": "stream",
     "text": [
      "mae\n",
      "2230000.0\n",
      "percent\n",
      "0.29925443731237916\n"
     ]
    }
   ],
   "source": [
    "building_model = xgbModel2(cols=building_columns)"
   ]
  },
  {
   "cell_type": "code",
   "execution_count": 135,
   "metadata": {},
   "outputs": [
    {
     "name": "stdout",
     "output_type": "stream",
     "text": [
      "mae\n",
      "2280000.0\n",
      "percent\n",
      "0.30714093993349434\n"
     ]
    }
   ],
   "source": [
    "unknown_model = xgbModel2(cols=unknown_columns)"
   ]
  },
  {
   "cell_type": "code",
   "execution_count": 136,
   "metadata": {},
   "outputs": [
    {
     "name": "stdout",
     "output_type": "stream",
     "text": [
      "mae\n",
      "2470000.0\n",
      "percent\n",
      "0.327950218465032\n"
     ]
    }
   ],
   "source": [
    "district_model = xgbModel2(cols=district_columns)"
   ]
  },
  {
   "cell_type": "code",
   "execution_count": null,
   "metadata": {},
   "outputs": [],
   "source": []
  },
  {
   "cell_type": "code",
   "execution_count": 137,
   "metadata": {},
   "outputs": [],
   "source": [
    "def predict(cols, model):\n",
    "    y_pred = model.predict(xgb.DMatrix(train.loc[:,cols]))\n",
    "    return y_pred"
   ]
  },
  {
   "cell_type": "code",
   "execution_count": 138,
   "metadata": {},
   "outputs": [],
   "source": [
    "def mae(predicted):\n",
    "    return mean_absolute_error(train.price_doc.values, predicted)"
   ]
  },
  {
   "cell_type": "code",
   "execution_count": 139,
   "metadata": {},
   "outputs": [
    {
     "data": {
      "text/plain": [
       "1930696.487012241"
      ]
     },
     "execution_count": 139,
     "metadata": {},
     "output_type": "execute_result"
    }
   ],
   "source": [
    "mae(predict(flat_columns, flat_model))"
   ]
  },
  {
   "cell_type": "code",
   "execution_count": 140,
   "metadata": {},
   "outputs": [
    {
     "data": {
      "text/plain": [
       "2115382.9682813166"
      ]
     },
     "execution_count": 140,
     "metadata": {},
     "output_type": "execute_result"
    }
   ],
   "source": [
    "mae(predict(building_columns, building_model))"
   ]
  },
  {
   "cell_type": "code",
   "execution_count": 141,
   "metadata": {},
   "outputs": [
    {
     "data": {
      "text/plain": [
       "2482433.7560549374"
      ]
     },
     "execution_count": 141,
     "metadata": {},
     "output_type": "execute_result"
    }
   ],
   "source": [
    "mae(predict(district_columns, district_model))"
   ]
  },
  {
   "cell_type": "code",
   "execution_count": 142,
   "metadata": {},
   "outputs": [
    {
     "data": {
      "text/plain": [
       "1375686.1507252797"
      ]
     },
     "execution_count": 142,
     "metadata": {},
     "output_type": "execute_result"
    }
   ],
   "source": [
    "mae(predict(all_feature_cols, all_feature_model))"
   ]
  },
  {
   "cell_type": "markdown",
   "metadata": {},
   "source": [
    "Linear model"
   ]
  },
  {
   "cell_type": "code",
   "execution_count": 143,
   "metadata": {},
   "outputs": [],
   "source": [
    "from sklearn import linear_model\n",
    "from sklearn.linear_model import Ridge"
   ]
  },
  {
   "cell_type": "code",
   "execution_count": 144,
   "metadata": {},
   "outputs": [],
   "source": [
    "linear_model = Ridge (alpha = .5)"
   ]
  },
  {
   "cell_type": "code",
   "execution_count": 145,
   "metadata": {},
   "outputs": [
    {
     "data": {
      "text/plain": [
       "30471"
      ]
     },
     "execution_count": 145,
     "metadata": {},
     "output_type": "execute_result"
    }
   ],
   "source": [
    "Y = train.price_doc.values\n",
    "Y.size"
   ]
  },
  {
   "cell_type": "code",
   "execution_count": 146,
   "metadata": {},
   "outputs": [
    {
     "data": {
      "text/plain": [
       "121884"
      ]
     },
     "execution_count": 146,
     "metadata": {},
     "output_type": "execute_result"
    }
   ],
   "source": [
    "X = np.zeros((30471, 4))\n",
    "a = predict(flat_columns, flat_model)\n",
    "b = predict(building_columns, building_model)\n",
    "c = predict(district_columns, district_model)\n",
    "d = predict(unknown_columns, unknown_model)\n",
    "for i in range (0, a.size):\n",
    "    X[i] = [a[i], b[i], c[i], d[i]]\n",
    "X.size"
   ]
  },
  {
   "cell_type": "code",
   "execution_count": 147,
   "metadata": {},
   "outputs": [
    {
     "data": {
      "text/plain": [
       "Ridge(alpha=0.5, copy_X=True, fit_intercept=True, max_iter=None,\n",
       "   normalize=False, random_state=None, solver='auto', tol=0.001)"
      ]
     },
     "execution_count": 147,
     "metadata": {},
     "output_type": "execute_result"
    }
   ],
   "source": [
    "linear_model.fit(X, Y)"
   ]
  },
  {
   "cell_type": "code",
   "execution_count": 148,
   "metadata": {},
   "outputs": [
    {
     "data": {
      "text/plain": [
       "30471"
      ]
     },
     "execution_count": 148,
     "metadata": {},
     "output_type": "execute_result"
    }
   ],
   "source": [
    "Y_PRED = linear_model.predict(X)\n",
    "Y_PRED.size"
   ]
  },
  {
   "cell_type": "code",
   "execution_count": 151,
   "metadata": {},
   "outputs": [
    {
     "name": "stdout",
     "output_type": "stream",
     "text": [
      "mae\n",
      "1496608.543749447\n",
      "percent\n",
      "0.19988412604087874\n"
     ]
    },
    {
     "data": {
      "image/png": "[encoded data removed]",
      "text/plain": [
       "<matplotlib.figure.Figure at 0x1042d898>"
      ]
     },
     "metadata": {},
     "output_type": "display_data"
    }
   ],
   "source": [
    "print 'mae'\n",
    "print mae(Y_PRED)\n",
    "print 'percent'\n",
    "print np.mean(np.absolute((Y_PRED - train.price_doc.values)/Y_PRED))\n",
    "plt.scatter(Y_PRED, Y)\n",
    "plt.ylabel('actual', fontsize=12)\n",
    "plt.xlabel('predicted', fontsize=12)\n",
    "plt.show()"
   ]
  },
  {
   "cell_type": "code",
   "execution_count": null,
   "metadata": {},
   "outputs": [],
   "source": []
  },
  {
   "cell_type": "code",
   "execution_count": null,
   "metadata": {},
   "outputs": [],
   "source": []
  }
 ],
 "metadata": {
  "kernelspec": {
   "display_name": "Python 2",
   "language": "python",
   "name": "python2"
  },
  "language_info": {
   "codemirror_mode": {
    "name": "ipython",
    "version": 2
   },
   "file_extension": ".py",
   "mimetype": "text/x-python",
   "name": "python",
   "nbconvert_exporter": "python",
   "pygments_lexer": "ipython2",
   "version": "2.7.14"
  }
 },
 "nbformat": 4,
 "nbformat_minor": 2
}
