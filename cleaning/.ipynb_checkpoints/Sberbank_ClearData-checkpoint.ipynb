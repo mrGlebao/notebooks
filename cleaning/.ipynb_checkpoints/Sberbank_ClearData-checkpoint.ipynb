{
 "cells": [
  {
   "cell_type": "code",
   "execution_count": 1,
   "metadata": {
    "collapsed": false
   },
   "outputs": [],
   "source": [
    "import pandas as pd\n",
    "import numpy as np\n",
    "import matplotlib\n",
    "import sklearn\n",
    "import math\n",
    "import seaborn as sns\n",
    "color = sns.color_palette()\n",
    "from sklearn import preprocessing#, preprocessing\n",
    "from matplotlib import pyplot as plt\n",
    "from matplotlib import pylab as plb\n",
    "from matplotlib import cm as cm\n",
    "%matplotlib inline"
   ]
  },
  {
   "cell_type": "markdown",
   "metadata": {},
   "source": [
    "## Clear data"
   ]
  },
  {
   "cell_type": "markdown",
   "metadata": {},
   "source": [
    "#### Обрабатываются следующие фичи:  \n",
    "* price_doc: sale price  \n",
    "* id: transaction id  \n",
    "* timestamp\n",
    "* full_sq\n",
    "* life_sq\n",
    "* floor\n",
    "* max_floor\n",
    "* material\n",
    "* build_year\n",
    "* num_room\n",
    "* kitch_sq\n",
    "* state\n",
    "* product_type \n",
    "* sub_area"
   ]
  },
  {
   "cell_type": "code",
   "execution_count": 2,
   "metadata": {
    "collapsed": false
   },
   "outputs": [
    {
     "name": "stdout",
     "output_type": "stream",
     "text": [
      "Train size =  30471\n",
      "Test size =  7662\n"
     ]
    }
   ],
   "source": [
    "train = pd.read_csv(\"train.csv\", encoding= \"utf_8\")\n",
    "test = pd.read_csv(\"test.csv\", encoding= \"utf_8\")\n",
    "print \"Train size = \", len(train)\n",
    "print \"Test size = \", len(test)"
   ]
  },
  {
   "cell_type": "markdown",
   "metadata": {},
   "source": [
    "<b>Декоратор для суммирования количества зааффекченых строк</b>"
   ]
  },
  {
   "cell_type": "code",
   "execution_count": 3,
   "metadata": {
    "collapsed": false
   },
   "outputs": [],
   "source": [
    "trainSize = len(train)\n",
    "def counter(f):\n",
    "    def wrapper(*args, **kwargs):\n",
    "        wrapper.total += len(args[0])\n",
    "        print \"Total rows affected: \", wrapper.total\n",
    "        print \"% of train total: \", 100.0*round(float(wrapper.total) / float(trainSize), 3)\n",
    "        return f(*args, **kwargs)\n",
    "    wrapper.total = 0\n",
    "    return wrapper"
   ]
  },
  {
   "cell_type": "code",
   "execution_count": 4,
   "metadata": {
    "collapsed": false
   },
   "outputs": [],
   "source": [
    "@counter\n",
    "def amount(x):\n",
    "    print \"Rows affected on this cleaning: \", len(x)\n",
    "    print \"% of train on this cleaning: \", 100.0*round(float(len(x)) / float(trainSize), 3)"
   ]
  },
  {
   "cell_type": "code",
   "execution_count": 5,
   "metadata": {
    "collapsed": true
   },
   "outputs": [],
   "source": [
    "first_feat = [\"id\",\"timestamp\", \"price_doc\", \"full_sq\", \"life_sq\",\n",
    "\"floor\", \"max_floor\", \"material\", \"build_year\", \"num_room\",\n",
    "\"kitch_sq\", \"state\", \"product_type\", \"sub_area\"]"
   ]
  },
  {
   "cell_type": "markdown",
   "metadata": {},
   "source": [
    "### Что проверяем:"
   ]
  },
  {
   "cell_type": "markdown",
   "metadata": {},
   "source": [
    "#### IF LIFE SQ >= FULL SQ => FULL SQ NP.NAN"
   ]
  },
  {
   "cell_type": "code",
   "execution_count": 6,
   "metadata": {
    "collapsed": false
   },
   "outputs": [
    {
     "name": "stdout",
     "output_type": "stream",
     "text": [
      "Total rows affected:  37\n",
      "% of train total:  0.1\n",
      "Rows affected on this cleaning:  37\n",
      "% of train on this cleaning:  0.1\n"
     ]
    }
   ],
   "source": [
    "bad_index = train[train.life_sq > train.full_sq].index\n",
    "train.ix[bad_index, \"life_sq\"] = np.NaN\n",
    "amount(bad_index)"
   ]
  },
  {
   "cell_type": "code",
   "execution_count": 7,
   "metadata": {
    "collapsed": false
   },
   "outputs": [],
   "source": [
    "equal_index = [601,1896,2791]\n",
    "# print (test.ix[equal_index])\n",
    "test.ix[equal_index, \"life_sq\"] = test.ix[equal_index, \"full_sq\"]"
   ]
  },
  {
   "cell_type": "code",
   "execution_count": 8,
   "metadata": {
    "collapsed": false
   },
   "outputs": [],
   "source": [
    "bad_index = test[test.life_sq > test.full_sq].index\n",
    "test.ix[bad_index, \"life_sq\"] = np.NaN"
   ]
  },
  {
   "cell_type": "markdown",
   "metadata": {},
   "source": [
    "#### IF LIFE SQ < 5 NP.NAN   "
   ]
  },
  {
   "cell_type": "code",
   "execution_count": 9,
   "metadata": {
    "collapsed": false
   },
   "outputs": [
    {
     "name": "stdout",
     "output_type": "stream",
     "text": [
      "Total rows affected:  472\n",
      "% of train total:  1.5\n",
      "Rows affected on this cleaning:  435\n",
      "% of train on this cleaning:  1.4\n"
     ]
    }
   ],
   "source": [
    "bad_index = train[train.life_sq < 5].index\n",
    "train.ix[bad_index, \"life_sq\"] = np.NaN\n",
    "amount(bad_index)"
   ]
  },
  {
   "cell_type": "code",
   "execution_count": 10,
   "metadata": {
    "collapsed": false
   },
   "outputs": [],
   "source": [
    "bad_index = test[test.life_sq < 5].index\n",
    "test.ix[bad_index, \"life_sq\"] = np.NaN"
   ]
  },
  {
   "cell_type": "markdown",
   "metadata": {},
   "source": [
    "#### IF FULL SQ < 5 NP.NAN  "
   ]
  },
  {
   "cell_type": "code",
   "execution_count": 11,
   "metadata": {
    "collapsed": false
   },
   "outputs": [
    {
     "name": "stdout",
     "output_type": "stream",
     "text": [
      "Total rows affected:  498\n",
      "% of train total:  1.6\n",
      "Rows affected on this cleaning:  26\n",
      "% of train on this cleaning:  0.1\n"
     ]
    }
   ],
   "source": [
    "bad_index = train[train.full_sq < 5].index\n",
    "train.ix[bad_index, \"full_sq\"] = np.NaN\n",
    "amount(bad_index)"
   ]
  },
  {
   "cell_type": "code",
   "execution_count": 12,
   "metadata": {
    "collapsed": false
   },
   "outputs": [],
   "source": [
    "bad_index = test[test.full_sq < 5].index\n",
    "test.ix[bad_index, \"full_sq\"] = np.NaN"
   ]
  },
  {
   "cell_type": "markdown",
   "metadata": {},
   "source": [
    "#### kitch_is_build_year lost"
   ]
  },
  {
   "cell_type": "code",
   "execution_count": 13,
   "metadata": {
    "collapsed": false
   },
   "outputs": [
    {
     "name": "stdout",
     "output_type": "stream",
     "text": [
      "Total rows affected:  501\n",
      "% of train total:  1.6\n",
      "Rows affected on this cleaning:  3\n",
      "% of train on this cleaning:  0.0\n"
     ]
    }
   ],
   "source": [
    "kitch_is_build_year = [13117]\n",
    "train.ix[kitch_is_build_year, \"build_year\"] = train.ix[kitch_is_build_year, \"kitch_sq\"]\n",
    "amount(bad_index)"
   ]
  },
  {
   "cell_type": "markdown",
   "metadata": {},
   "source": [
    "#### KITCH SQ < LIFE SQ  "
   ]
  },
  {
   "cell_type": "code",
   "execution_count": 14,
   "metadata": {
    "collapsed": false
   },
   "outputs": [
    {
     "name": "stdout",
     "output_type": "stream",
     "text": [
      "Total rows affected:  579\n",
      "% of train total:  1.9\n",
      "Rows affected on this cleaning:  78\n",
      "% of train on this cleaning:  0.3\n"
     ]
    }
   ],
   "source": [
    "bad_index = train[train.kitch_sq >= train.life_sq].index\n",
    "train.ix[bad_index, \"kitch_sq\"] = np.NaN\n",
    "amount(bad_index)"
   ]
  },
  {
   "cell_type": "code",
   "execution_count": 15,
   "metadata": {
    "collapsed": false
   },
   "outputs": [],
   "source": [
    "bad_index = test[test.kitch_sq >= test.life_sq].index\n",
    "test.ix[bad_index, \"kitch_sq\"] = np.NaN"
   ]
  },
  {
   "cell_type": "markdown",
   "metadata": {},
   "source": [
    "#### IF KITCH SQ == 0 OR 1 NP.NAN  "
   ]
  },
  {
   "cell_type": "code",
   "execution_count": 16,
   "metadata": {
    "collapsed": false
   },
   "outputs": [
    {
     "name": "stdout",
     "output_type": "stream",
     "text": [
      "Total rows affected:  6814\n",
      "% of train total:  22.4\n",
      "Rows affected on this cleaning:  6235\n",
      "% of train on this cleaning:  20.5\n"
     ]
    }
   ],
   "source": [
    "bad_index = train[(train.kitch_sq == 0).values + (train.kitch_sq == 1).values].index\n",
    "train.ix[bad_index, \"kitch_sq\"] = np.NaN\n",
    "amount(bad_index)"
   ]
  },
  {
   "cell_type": "code",
   "execution_count": 17,
   "metadata": {
    "collapsed": false
   },
   "outputs": [],
   "source": [
    "bad_index = test[(test.kitch_sq == 0).values + (test.kitch_sq == 1).values].index\n",
    "test.ix[bad_index, \"kitch_sq\"] = np.NaN"
   ]
  },
  {
   "cell_type": "markdown",
   "metadata": {},
   "source": [
    "#### OUTLIERS IN LIFE SQ, FULL SQ AND KITCH SQ \n",
    "LIFE SQ / FULL SQ >= 0.3 too"
   ]
  },
  {
   "cell_type": "code",
   "execution_count": 18,
   "metadata": {
    "collapsed": false
   },
   "outputs": [
    {
     "name": "stdout",
     "output_type": "stream",
     "text": [
      "Total rows affected:  6821\n",
      "% of train total:  22.4\n",
      "Rows affected on this cleaning:  7\n",
      "% of train on this cleaning:  0.0\n"
     ]
    }
   ],
   "source": [
    "bad_index = train[(train.full_sq > 210) & (train.life_sq / train.full_sq < 0.3)].index\n",
    "train.ix[bad_index, \"full_sq\"] = np.NaN\n",
    "amount(bad_index)"
   ]
  },
  {
   "cell_type": "code",
   "execution_count": 19,
   "metadata": {
    "collapsed": false
   },
   "outputs": [],
   "source": [
    "bad_index = test[(test.full_sq > 150) & (test.life_sq / test.full_sq < 0.3)].index\n",
    "test.ix[bad_index, \"full_sq\"] = np.NaN"
   ]
  },
  {
   "cell_type": "code",
   "execution_count": 20,
   "metadata": {
    "collapsed": false
   },
   "outputs": [
    {
     "name": "stdout",
     "output_type": "stream",
     "text": [
      "Total rows affected:  6824\n",
      "% of train total:  22.4\n",
      "Rows affected on this cleaning:  3\n",
      "% of train on this cleaning:  0.0\n"
     ]
    }
   ],
   "source": [
    "bad_index = train[train.life_sq > 300].index\n",
    "train.ix[bad_index, [\"life_sq\", \"full_sq\"]] = np.NaN\n",
    "amount(bad_index)"
   ]
  },
  {
   "cell_type": "code",
   "execution_count": 21,
   "metadata": {
    "collapsed": false
   },
   "outputs": [],
   "source": [
    "bad_index = test[test.life_sq > 200].index\n",
    "test.ix[bad_index, [\"life_sq\", \"full_sq\"]] = np.NaN"
   ]
  },
  {
   "cell_type": "markdown",
   "metadata": {},
   "source": [
    "### BUILDYEAR"
   ]
  },
  {
   "cell_type": "code",
   "execution_count": 22,
   "metadata": {
    "collapsed": false
   },
   "outputs": [
    {
     "data": {
      "text/plain": [
       "Investment       0.638246\n",
       "OwnerOccupier    0.361754\n",
       "Name: product_type, dtype: float64"
      ]
     },
     "execution_count": 22,
     "metadata": {},
     "output_type": "execute_result"
    }
   ],
   "source": [
    "train.product_type.value_counts(normalize= True)"
   ]
  },
  {
   "cell_type": "code",
   "execution_count": 23,
   "metadata": {
    "collapsed": false
   },
   "outputs": [
    {
     "data": {
      "text/plain": [
       "Investment       0.652310\n",
       "OwnerOccupier    0.343383\n",
       "Name: product_type, dtype: float64"
      ]
     },
     "execution_count": 23,
     "metadata": {},
     "output_type": "execute_result"
    }
   ],
   "source": [
    "test.product_type.value_counts(normalize= True)"
   ]
  },
  {
   "cell_type": "code",
   "execution_count": 24,
   "metadata": {
    "collapsed": false
   },
   "outputs": [
    {
     "name": "stdout",
     "output_type": "stream",
     "text": [
      "Total rows affected:  7728\n",
      "% of train total:  25.4\n",
      "Rows affected on this cleaning:  904\n",
      "% of train on this cleaning:  3.0\n"
     ]
    }
   ],
   "source": [
    "bad_index = train[train.build_year < 1800].index\n",
    "train.ix[bad_index, \"build_year\"] = np.NaN\n",
    "amount(bad_index)"
   ]
  },
  {
   "cell_type": "code",
   "execution_count": 25,
   "metadata": {
    "collapsed": false
   },
   "outputs": [],
   "source": [
    "bad_index = test[test.build_year < 1500].index\n",
    "test.ix[bad_index, \"build_year\"] = np.NaN"
   ]
  },
  {
   "cell_type": "markdown",
   "metadata": {},
   "source": [
    "### NUM OF ROOMS\n",
    "* Выброс? Очень мало \\ много ?\n",
    "* LIFE SQ / ROOM > MIN ROOM SQ - а где комнаты побольше?\n",
    "* IF NUM ROOM == 0 => TO NP.NAN"
   ]
  },
  {
   "cell_type": "code",
   "execution_count": 26,
   "metadata": {
    "collapsed": false
   },
   "outputs": [
    {
     "name": "stdout",
     "output_type": "stream",
     "text": [
      "Total rows affected:  7742\n",
      "% of train total:  25.4\n",
      "Rows affected on this cleaning:  14\n",
      "% of train on this cleaning:  0.0\n"
     ]
    }
   ],
   "source": [
    "bad_index = train[train.num_room == 0].index \n",
    "train.ix[bad_index, \"num_room\"] = np.NaN\n",
    "amount(bad_index)"
   ]
  },
  {
   "cell_type": "code",
   "execution_count": 27,
   "metadata": {
    "collapsed": false
   },
   "outputs": [],
   "source": [
    "bad_index = test[test.num_room == 0].index \n",
    "test.ix[bad_index, \"num_room\"] = np.NaN"
   ]
  },
  {
   "cell_type": "code",
   "execution_count": 28,
   "metadata": {
    "collapsed": false
   },
   "outputs": [
    {
     "name": "stdout",
     "output_type": "stream",
     "text": [
      "Total rows affected:  7749\n",
      "% of train total:  25.4\n",
      "Rows affected on this cleaning:  7\n",
      "% of train on this cleaning:  0.0\n"
     ]
    }
   ],
   "source": [
    "bad_index = [10076, 11621, 17764, 19390, 24007, 26713, 29172]\n",
    "train.ix[bad_index, \"num_room\"] = np.NaN\n",
    "amount(bad_index)"
   ]
  },
  {
   "cell_type": "code",
   "execution_count": 29,
   "metadata": {
    "collapsed": false
   },
   "outputs": [],
   "source": [
    "bad_index = [3174, 7313]\n",
    "test.ix[bad_index, \"num_room\"] = np.NaN"
   ]
  },
  {
   "cell_type": "markdown",
   "metadata": {},
   "source": [
    "###  FLOOR & MAX FLOOR\n",
    "* FLOOR == 0 & MAX FLOOR == 0 возможно ли? \n",
    "* IF FLOOR > MAX FLOOR -> MAX FLOOR NP.NAN, хотя спорно - надо районировать\n",
    "* Выбросы"
   ]
  },
  {
   "cell_type": "code",
   "execution_count": 30,
   "metadata": {
    "collapsed": false
   },
   "outputs": [
    {
     "name": "stdout",
     "output_type": "stream",
     "text": [
      "Total rows affected:  7753\n",
      "% of train total:  25.4\n",
      "Rows affected on this cleaning:  4\n",
      "% of train on this cleaning:  0.0\n"
     ]
    }
   ],
   "source": [
    "bad_index = train[(train.floor == 0).values & (train.max_floor == 0).values].index\n",
    "train.ix[bad_index, [\"max_floor\", \"floor\"]] = np.NaN\n",
    "amount(bad_index)"
   ]
  },
  {
   "cell_type": "code",
   "execution_count": 31,
   "metadata": {
    "collapsed": false
   },
   "outputs": [
    {
     "name": "stdout",
     "output_type": "stream",
     "text": [
      "Total rows affected:  7758\n",
      "% of train total:  25.5\n",
      "Rows affected on this cleaning:  5\n",
      "% of train on this cleaning:  0.0\n"
     ]
    }
   ],
   "source": [
    "bad_index = train[train.floor == 0].index\n",
    "train.ix[bad_index, \"floor\"] = np.NaN\n",
    "amount(bad_index)"
   ]
  },
  {
   "cell_type": "code",
   "execution_count": 32,
   "metadata": {
    "collapsed": false
   },
   "outputs": [
    {
     "name": "stdout",
     "output_type": "stream",
     "text": [
      "Total rows affected:  8304\n",
      "% of train total:  27.3\n",
      "Rows affected on this cleaning:  546\n",
      "% of train on this cleaning:  1.8\n"
     ]
    }
   ],
   "source": [
    "bad_index = train[train.max_floor == 0].index\n",
    "train.ix[bad_index, \"max_floor\"] = np.NaN\n",
    "amount(bad_index)"
   ]
  },
  {
   "cell_type": "code",
   "execution_count": 33,
   "metadata": {
    "collapsed": false
   },
   "outputs": [],
   "source": [
    "bad_index = test[test.max_floor == 0].index\n",
    "test.ix[bad_index, \"max_floor\"] = np.NaN"
   ]
  },
  {
   "cell_type": "code",
   "execution_count": 34,
   "metadata": {
    "collapsed": false
   },
   "outputs": [
    {
     "name": "stdout",
     "output_type": "stream",
     "text": [
      "Total rows affected:  9251\n",
      "% of train total:  30.4\n",
      "Rows affected on this cleaning:  947\n",
      "% of train on this cleaning:  3.1\n"
     ]
    }
   ],
   "source": [
    "bad_index = train[train.floor > train.max_floor].index\n",
    "train.ix[bad_index, \"max_floor\"] = np.NaN\n",
    "amount(bad_index)"
   ]
  },
  {
   "cell_type": "code",
   "execution_count": 35,
   "metadata": {
    "collapsed": false
   },
   "outputs": [],
   "source": [
    "bad_index = test[test.floor > test.max_floor].index\n",
    "test.ix[bad_index, \"max_floor\"] = np.NaN"
   ]
  },
  {
   "cell_type": "code",
   "execution_count": 36,
   "metadata": {
    "collapsed": false
   },
   "outputs": [
    {
     "data": {
      "text/plain": [
       "count     30295.000000\n",
       "mean          7.673081\n",
       "std           5.319135\n",
       "min           1.000000\n",
       "50%           7.000000\n",
       "100.0%       40.911800\n",
       "max          77.000000\n",
       "Name: floor, dtype: float64"
      ]
     },
     "execution_count": 36,
     "metadata": {},
     "output_type": "execute_result"
    }
   ],
   "source": [
    "train.floor.describe(percentiles= [0.9999])"
   ]
  },
  {
   "cell_type": "code",
   "execution_count": 37,
   "metadata": {
    "collapsed": false,
    "scrolled": true
   },
   "outputs": [
    {
     "name": "stdout",
     "output_type": "stream",
     "text": [
      "Total rows affected:  9252\n",
      "% of train total:  30.4\n",
      "Rows affected on this cleaning:  1\n",
      "% of train on this cleaning:  0.0\n"
     ]
    }
   ],
   "source": [
    "bad_index = [23584]\n",
    "train.ix[bad_index, \"floor\"] = np.NaN\n",
    "amount(bad_index)"
   ]
  },
  {
   "cell_type": "markdown",
   "metadata": {},
   "source": [
    "### MATERIAL\n",
    "1 - panel, 2 - brick, 3 - wood, 4 - mass concrete, 5 - breezeblock, 6 - mass concrete + brick"
   ]
  },
  {
   "cell_type": "code",
   "execution_count": 38,
   "metadata": {
    "collapsed": false
   },
   "outputs": [
    {
     "data": {
      "text/plain": [
       "1.0    14197\n",
       "2.0     2993\n",
       "5.0     1561\n",
       "4.0     1344\n",
       "6.0      803\n",
       "3.0        1\n",
       "Name: material, dtype: int64"
      ]
     },
     "execution_count": 38,
     "metadata": {},
     "output_type": "execute_result"
    }
   ],
   "source": [
    "train.material.value_counts()"
   ]
  },
  {
   "cell_type": "code",
   "execution_count": 39,
   "metadata": {
    "collapsed": false
   },
   "outputs": [
    {
     "data": {
      "text/plain": [
       "1    5241\n",
       "2     958\n",
       "4     619\n",
       "5     487\n",
       "6     356\n",
       "3       1\n",
       "Name: material, dtype: int64"
      ]
     },
     "execution_count": 39,
     "metadata": {},
     "output_type": "execute_result"
    }
   ],
   "source": [
    "test.material.value_counts()"
   ]
  },
  {
   "cell_type": "markdown",
   "metadata": {},
   "source": [
    "### STATE\n",
    "4 - the best -> 1 - the worst"
   ]
  },
  {
   "cell_type": "code",
   "execution_count": 40,
   "metadata": {
    "collapsed": false,
    "scrolled": true
   },
   "outputs": [
    {
     "data": {
      "text/plain": [
       "2.0     5844\n",
       "3.0     5790\n",
       "1.0     4855\n",
       "4.0      422\n",
       "33.0       1\n",
       "Name: state, dtype: int64"
      ]
     },
     "execution_count": 40,
     "metadata": {},
     "output_type": "execute_result"
    }
   ],
   "source": [
    "train.state.value_counts()"
   ]
  },
  {
   "cell_type": "code",
   "execution_count": 41,
   "metadata": {
    "collapsed": false
   },
   "outputs": [
    {
     "name": "stdout",
     "output_type": "stream",
     "text": [
      "Total rows affected:  9253\n",
      "% of train total:  30.4\n",
      "Rows affected on this cleaning:  1\n",
      "% of train on this cleaning:  0.0\n"
     ]
    }
   ],
   "source": [
    "bad_index = train[train.state == 33].index\n",
    "train.ix[bad_index, \"state\"] = np.NaN\n",
    "amount(bad_index)"
   ]
  },
  {
   "cell_type": "code",
   "execution_count": 42,
   "metadata": {
    "collapsed": false,
    "scrolled": true
   },
   "outputs": [
    {
     "data": {
      "text/plain": [
       "2.0    2662\n",
       "1.0    2266\n",
       "3.0    1913\n",
       "4.0     127\n",
       "Name: state, dtype: int64"
      ]
     },
     "execution_count": 42,
     "metadata": {},
     "output_type": "execute_result"
    }
   ],
   "source": [
    "test.state.value_counts()"
   ]
  },
  {
   "cell_type": "markdown",
   "metadata": {},
   "source": [
    "### SAVE CLEAN\n",
    "ToDO: need to choose best add na_rep, something like : test.to_csv('c:\\temp\\test_synthetic_v3.csv',na_rep='NA',index=False)"
   ]
  },
  {
   "cell_type": "code",
   "execution_count": 43,
   "metadata": {
    "collapsed": true
   },
   "outputs": [],
   "source": [
    "test.to_csv(\"test_clean.csv\", na_rep='NA', index= False, encoding= \"utf_8\")\n",
    "train.to_csv(\"train_clean.csv\", na_rep='NA', index = False, encoding= \"utf_8\")"
   ]
  },
  {
   "cell_type": "markdown",
   "metadata": {},
   "source": [
    "## Ещё один подход к очистке датасетов (попытка агрегации по районам)"
   ]
  },
  {
   "cell_type": "markdown",
   "metadata": {},
   "source": [
    "Чтобы прогнозировать цену m^2, можно ввести фиктивную колонку price/full_sq"
   ]
  },
  {
   "cell_type": "code",
   "execution_count": 44,
   "metadata": {
    "collapsed": false
   },
   "outputs": [],
   "source": [
    "train = pd.read_csv(\"train.csv\", encoding= \"utf_8\")\n",
    "test = pd.read_csv(\"test.csv\", encoding= \"utf_8\")\n",
    "n=train.shape[0]\n",
    "test.price_doc=np.nan\n",
    "ids=test['id']\n",
    "target=train.price_doc\n",
    "train=train.append(test)"
   ]
  },
  {
   "cell_type": "code",
   "execution_count": 45,
   "metadata": {
    "collapsed": false
   },
   "outputs": [
    {
     "name": "stdout",
     "output_type": "stream",
     "text": [
      "('floors done', Investment       24446\n",
      "OwnerOccupier    13654\n",
      "Name: product_type, dtype: int64)\n"
     ]
    }
   ],
   "source": [
    "a=train.sub_area.unique()\n",
    "for i in a:\n",
    "    if train[(train['floor'].isnull()) & (train['sub_area']==i)].shape[0]>0:\n",
    "        train.loc[(train['floor'].isnull()) & (train['sub_area']==i),'floor']=train.loc[(train['floor'].notnull()) & (train['sub_area']==i),'floor'].mode().values[0]\n",
    "print('floors done',train['product_type'].value_counts())"
   ]
  },
  {
   "cell_type": "markdown",
   "metadata": {},
   "source": [
    "Заполним nan средними по району (может пригодиться для алгоритмов, где nan неприемлемы)"
   ]
  },
  {
   "cell_type": "code",
   "execution_count": 46,
   "metadata": {
    "collapsed": false
   },
   "outputs": [],
   "source": [
    "for i in a:\n",
    "    if train[(train['max_floor'].isnull()) & (train['sub_area']==i)].shape[0]>0:\n",
    "        if i=='Poselenie Shhapovskoe':\n",
    "            train.loc[(train['max_floor'].isnull()) & (train['sub_area']==i),'max_floor']=train.loc[(train['max_floor'].notnull()) & (train['sub_area']==i),'max_floor'].median()\n",
    "        else:\n",
    "            train.loc[(train['max_floor'].isnull()) & (train['sub_area']==i),'max_floor']=train.loc[(train['max_floor'].notnull()) & (train['sub_area']==i),'max_floor'].mode().values[0]"
   ]
  },
  {
   "cell_type": "markdown",
   "metadata": {},
   "source": [
    "### build year\n",
    "Некоторые районы образовались недавно. Стройки там до этого можно считать выбросами (вероятно их мало, т.к. недостаток инфраструктуры и транспорта, но стоит проверить, чтобы точно)"
   ]
  },
  {
   "cell_type": "code",
   "execution_count": 47,
   "metadata": {
    "collapsed": false
   },
   "outputs": [],
   "source": [
    "for i in a:\n",
    "    if train[(train['build_year'].isnull()) & (train['sub_area']==i)].shape[0]>0:\n",
    "        if i=='Poselenie Voronovskoe':\n",
    "            train.loc[(train['build_year'].isnull()) & (train['sub_area']==i),'build_year']=2014\n",
    "        elif i=='Poselenie Shhapovskoe':\n",
    "            train.loc[(train['build_year'].isnull()) & (train['sub_area']==i),'build_year']=2011\n",
    "        else:\n",
    "            train.loc[(train['build_year'].isnull()) & (train['sub_area']==i),'build_year']=train.loc[(train['build_year'].notnull()) & (train['sub_area']==i),'build_year'].mode().values[0]\n"
   ]
  },
  {
   "cell_type": "markdown",
   "metadata": {},
   "source": [
    "### materials"
   ]
  },
  {
   "cell_type": "code",
   "execution_count": 48,
   "metadata": {
    "collapsed": false
   },
   "outputs": [],
   "source": [
    "for i in a:\n",
    "    if train[(train['material'].isnull()) & (train['sub_area']==i)].shape[0]>0:\n",
    "        train.loc[(train['material'].isnull()) & (train['sub_area']==i),'material']=train.loc[(train['material'].notnull()) & (train['sub_area']==i),'material'].mode().values[0]"
   ]
  },
  {
   "cell_type": "markdown",
   "metadata": {},
   "source": [
    "### state"
   ]
  },
  {
   "cell_type": "code",
   "execution_count": 49,
   "metadata": {
    "collapsed": true
   },
   "outputs": [],
   "source": [
    "for i in a:\n",
    "    if train[(train['state'].isnull()) & (train['sub_area']==i)].shape[0]>0:\n",
    "        if (i=='Poselenie Klenovskoe' or i=='Poselenie Kievskij'):\n",
    "            train.loc[(train['state'].isnull()) & (train['sub_area']==i),'state']=2\n",
    "        else:\n",
    "            train.loc[(train['state'].isnull()) & (train['sub_area']==i),'state']=train.loc[(train['state'].notnull()) & (train['sub_area']==i),'state'].mode().values[0]"
   ]
  },
  {
   "cell_type": "markdown",
   "metadata": {},
   "source": [
    "### railroads"
   ]
  },
  {
   "cell_type": "code",
   "execution_count": 50,
   "metadata": {
    "collapsed": true
   },
   "outputs": [],
   "source": [
    "cols=['ID_railroad_station_walk','ID_railroad_station_avto','green_part_2000','metro_km_walk','metro_min_walk']\n",
    "for j in cols:\n",
    "    for i in a:\n",
    "        if train[(train[j].isnull()) & (train['sub_area']==i)].shape[0]>0:\n",
    "            train.loc[(train[j].isnull()) & (train['sub_area']==i),j]=train.loc[(train[j].notnull()) & (train['sub_area']==i),j].mode().values[0]\n",
    "cols=['railroad_station_walk_km','railroad_station_walk_min']\n",
    "for j in cols:\n",
    "    for i in a:\n",
    "        if train[(train[j].isnull()) & (train['sub_area']==i)].shape[0]>0:\n",
    "            train.loc[(train[j].isnull()) & (train['sub_area']==i),j]=train.loc[(train[j].notnull()) & (train['sub_area']==i),j].median()"
   ]
  },
  {
   "cell_type": "markdown",
   "metadata": {},
   "source": [
    "### rooms & spacing"
   ]
  },
  {
   "cell_type": "code",
   "execution_count": 51,
   "metadata": {
    "collapsed": false
   },
   "outputs": [
    {
     "name": "stdout",
     "output_type": "stream",
     "text": [
      "('fits done', Investment       24446\n",
      "OwnerOccupier    13654\n",
      "Name: product_type, dtype: int64)\n"
     ]
    }
   ],
   "source": [
    "# логичнее заполнить пропуски на основании хотя бы примитивной линейной модели, чем на основании среднего\n",
    "x=train.loc[(train.full_sq.notnull())&(train.num_room.notnull()),'full_sq']\n",
    "y=train.loc[(train.full_sq.notnull())&(train.num_room.notnull()),'num_room']\n",
    "rooms=np.polyfit(x,y,1)\n",
    "train.loc[train['num_room'].isnull(),'num_room']=train.loc[train['num_room'].isnull(),'full_sq']*rooms[0]+rooms[1]\n",
    "\n",
    "# логичнее заполнить пропуски на основании хотя бы примитивной линейной модели, чем на основании среднего\n",
    "x=train.loc[(train.kitch_sq.notnull())&(train.kitch_sq.notnull()),'full_sq']\n",
    "y=train.loc[(train.kitch_sq.notnull())&(train.kitch_sq.notnull()),'kitch_sq']\n",
    "kitch=np.polyfit(x,y,1)\n",
    "train.loc[train['kitch_sq'].isnull(),'kitch_sq']=train.loc[train['kitch_sq'].isnull(),'full_sq']*kitch[0]+kitch[1]\n",
    "\n",
    "# логичнее заполнить пропуски на основании хотя бы примитивной линейной модели, чем на основании среднего\n",
    "x=train.loc[(train.full_sq.notnull())&(train.life_sq.notnull()),'full_sq']\n",
    "y=train.loc[(train.full_sq.notnull())&(train.life_sq.notnull()),'life_sq']\n",
    "life=np.polyfit(x,y,1)\n",
    "train.loc[train['life_sq'].isnull(),'life_sq']=train.loc[train['life_sq'].isnull(),'full_sq']*life[0]+life[1]\n",
    "# уберём выбросы\n",
    "train.loc[(train['life_sq']>train['full_sq'])&(train['life_sq']>1000),'life_sq']=train.loc[(train['life_sq']>train['full_sq'])&(train['life_sq']>1000),'life_sq']/1000\n",
    "train.loc[(train['life_sq']>train['full_sq'])&(train['life_sq']>106),'life_sq']=train.loc[(train['life_sq']>train['full_sq'])&(train['life_sq']>106),'life_sq']/100\n",
    "print('fits done',train['product_type'].value_counts())"
   ]
  },
  {
   "cell_type": "markdown",
   "metadata": {},
   "source": [
    "### Город \\ Район\n",
    "Брались средние значения, можно попробовать кластеризовать, например, по районам"
   ]
  },
  {
   "cell_type": "code",
   "execution_count": 52,
   "metadata": {
    "collapsed": false
   },
   "outputs": [
    {
     "name": "stdout",
     "output_type": "stream",
     "text": [
      "('city data done', Investment       24446\n",
      "OwnerOccupier    13654\n",
      "Name: product_type, dtype: int64)\n"
     ]
    }
   ],
   "source": [
    "cols=['build_count_1921-1945','build_count_1946-1970','build_count_1971-1995','build_count_after_1995','build_count_before_1920',\n",
    "'build_count_block','build_count_brick','build_count_foam','build_count_frame','build_count_mix','build_count_monolith',\n",
    "'build_count_panel','build_count_slag','build_count_wood','cafe_avg_price_1000','cafe_avg_price_1500','cafe_avg_price_2000',\n",
    "'cafe_avg_price_3000','cafe_avg_price_500','cafe_avg_price_5000','cafe_sum_1000_max_price_avg','cafe_sum_1000_min_price_avg',\n",
    "'cafe_sum_1500_max_price_avg','cafe_sum_1500_min_price_avg','cafe_sum_2000_max_price_avg','cafe_sum_2000_min_price_avg',\n",
    "'cafe_sum_3000_max_price_avg','cafe_sum_3000_min_price_avg','cafe_sum_5000_max_price_avg','cafe_sum_5000_min_price_avg',\n",
    "'cafe_sum_500_max_price_avg','cafe_sum_500_min_price_avg','raion_build_count_with_builddate_info','raion_build_count_with_material_info','prom_part_5000']\n",
    "for j in cols:\n",
    "    train.loc[train[j].isnull(),j]=train.loc[train[j].notnull(),j].median()\n",
    "            \n",
    "print('city data done',train['product_type'].value_counts())"
   ]
  },
  {
   "cell_type": "markdown",
   "metadata": {},
   "source": [
    "#### больницы и дет. сады"
   ]
  },
  {
   "cell_type": "code",
   "execution_count": 53,
   "metadata": {
    "collapsed": true
   },
   "outputs": [],
   "source": [
    "i='raion_popul'\n",
    "j='hospital_beds_raion'\n",
    "x=train.loc[(train[i].notnull())&(train[j].notnull()),i]\n",
    "y=train.loc[(train[i].notnull())&(train[j].notnull()),j]\n",
    "fit=np.polyfit(x,y,1)\n",
    "train.loc[train[j].isnull(),j]=train.loc[train[j].isnull(),i]*fit[0]+fit[1]\n",
    "\n",
    "i='children_preschool'\n",
    "j='preschool_quota'\n",
    "x=train.loc[(train[i].notnull())&(train[j].notnull()),i]\n",
    "y=train.loc[(train[i].notnull())&(train[j].notnull()),j]\n",
    "fit=np.polyfit(x,y,1)\n",
    "train.loc[train[j].isnull(),j]=train.loc[train[j].isnull(),i]*fit[0]+fit[1]\n",
    "\n",
    "i='children_school'\n",
    "j='school_quota'\n",
    "x=train.loc[(train[i].notnull())&(train[j].notnull()),i]\n",
    "y=train.loc[(train[i].notnull())&(train[j].notnull()),j]\n",
    "fit=np.polyfit(x,y,1)\n",
    "train.loc[train[j].isnull(),j]=train.loc[train[j].isnull(),i]*fit[0]+fit[1]\n",
    "\n",
    "train.loc[train['product_type'].isnull(),'product_type']='Investment'"
   ]
  },
  {
   "cell_type": "markdown",
   "metadata": {},
   "source": [
    "#### Экология:\n",
    "4 - превосходная, 1 - печальная"
   ]
  },
  {
   "cell_type": "code",
   "execution_count": 54,
   "metadata": {
    "collapsed": false
   },
   "outputs": [],
   "source": [
    "binary=[]\n",
    "for i in train:\n",
    "    if train[i].dtypes=='object':\n",
    "#         print(\"Объектов\", train[i].value_counts())\n",
    "        if train[i].value_counts().shape[0]==2:\n",
    "            binary.append(i)\n",
    "for i in binary:\n",
    "    train[i]=pd.factorize(train[i])[0]\n",
    "#change the echology to a 1-4 and ohe for NANs\n",
    "train.loc[train['ecology']=='no data','ecology_dat']=0\n",
    "train.loc[train['ecology']!='no data','ecology_dat']=1\n",
    "train.loc[train['ecology']=='no data','ecology']=2\n",
    "train.loc[train['ecology']=='poor','ecology']=1\n",
    "train.loc[train['ecology']=='satisfactory','ecology']=2\n",
    "train.loc[train['ecology']=='good','ecology']=3\n",
    "train.loc[train['ecology']=='excellent','ecology']=4\n",
    "train.ecology=pd.to_numeric(train.ecology)\n",
    "\n",
    "train=pd.concat([train,pd.get_dummies(train.sub_area)],axis=1)\n",
    "train=pd.concat([train,pd.get_dummies(train.material,prefix='material')],axis=1)\n",
    "train.drop(['sub_area','material'],inplace=True,axis=1)"
   ]
  },
  {
   "cell_type": "markdown",
   "metadata": {},
   "source": [
    "Посчитаем кол-во различных переменных в датасете"
   ]
  },
  {
   "cell_type": "code",
   "execution_count": 55,
   "metadata": {
    "collapsed": false
   },
   "outputs": [
    {
     "data": {
      "text/html": [
       "<div>\n",
       "<table border=\"1\" class=\"dataframe\">\n",
       "  <thead>\n",
       "    <tr style=\"text-align: right;\">\n",
       "      <th></th>\n",
       "      <th>Column Type</th>\n",
       "      <th>Count</th>\n",
       "    </tr>\n",
       "  </thead>\n",
       "  <tbody>\n",
       "    <tr>\n",
       "      <th>0</th>\n",
       "      <td>int64</td>\n",
       "      <td>159</td>\n",
       "    </tr>\n",
       "    <tr>\n",
       "      <th>1</th>\n",
       "      <td>float64</td>\n",
       "      <td>116</td>\n",
       "    </tr>\n",
       "    <tr>\n",
       "      <th>2</th>\n",
       "      <td>object</td>\n",
       "      <td>16</td>\n",
       "    </tr>\n",
       "  </tbody>\n",
       "</table>\n",
       "</div>"
      ],
      "text/plain": [
       "  Column Type  Count\n",
       "0       int64    159\n",
       "1     float64    116\n",
       "2      object     16"
      ]
     },
     "execution_count": 55,
     "metadata": {},
     "output_type": "execute_result"
    }
   ],
   "source": [
    "dtype_df = test.dtypes.reset_index()\n",
    "dtype_df.columns = [\"Count\", \"Column Type\"]\n",
    "dtype_df.groupby(\"Column Type\").aggregate('count').reset_index()"
   ]
  },
  {
   "cell_type": "markdown",
   "metadata": {},
   "source": [
    "Давайте определим, сколько в каждой колонке нехватающих величин"
   ]
  },
  {
   "cell_type": "code",
   "execution_count": 56,
   "metadata": {
    "collapsed": false
   },
   "outputs": [],
   "source": [
    "# missing_df = train.isnull().sum(axis=0).reset_index()\n",
    "# missing_df.columns = ['column_name', 'missing_count']\n",
    "# missing_df = missing_df.ix[missing_df['missing_count']>0]\n",
    "# ind = np.arange(missing_df.shape[0])\n",
    "# width = 0.9\n",
    "# fig, ax = plt.subplots(figsize=(12,18))\n",
    "# rects = ax.barh(ind, missing_df.missing_count.values, color='y')\n",
    "# ax.set_yticks(ind)\n",
    "# ax.set_yticklabels(missing_df.column_name.values, rotation='horizontal')\n",
    "# ax.set_xlabel(\"Count of missing values\")\n",
    "# ax.set_title(\"Number of missing values in each column\")\n",
    "# plt.show()"
   ]
  },
  {
   "cell_type": "code",
   "execution_count": 57,
   "metadata": {
    "collapsed": false
   },
   "outputs": [],
   "source": [
    "# train_na = (train.isnull().sum() / len(train)) * 100\n",
    "# train_na = train_na.drop(train_na[train_na == 0].index).sort_values(ascending=False)\n",
    "# f, ax = plt.subplots(figsize=(15, 8))\n",
    "# plt.xticks(rotation='90')\n",
    "# sns.barplot(x=train_na.index, y=train_na)\n",
    "# ax.set(title='Percent missing data by feature', ylabel='% missing')"
   ]
  },
  {
   "cell_type": "markdown",
   "metadata": {},
   "source": [
    "### Data Quality Issues"
   ]
  },
  {
   "cell_type": "code",
   "execution_count": 58,
   "metadata": {
    "collapsed": false
   },
   "outputs": [],
   "source": [
    "# Состояние может принимать значения от 1 до 4. 33 - явная ошибка. Заменим модой\n",
    "train.loc[train['state'] == 33, 'state'] = train['state'].mode().iloc[0]\n",
    "\n",
    "# build_year 20052009. Полагаю, это 2005-2009, так что заменим на 2007\n",
    "train.loc[train['build_year'] == 20052009, 'build_year'] = 2007"
   ]
  },
  {
   "cell_type": "code",
   "execution_count": 59,
   "metadata": {
    "collapsed": true
   },
   "outputs": [],
   "source": [
    "internal_chars = ['full_sq', 'life_sq', 'floor', 'max_floor', 'build_year', 'num_room', 'kitch_sq', 'state', 'price_doc']\n",
    "corrmat = train[internal_chars].corr()"
   ]
  },
  {
   "cell_type": "code",
   "execution_count": 60,
   "metadata": {
    "collapsed": false
   },
   "outputs": [
    {
     "data": {
      "text/plain": [
       "<matplotlib.axes._subplots.AxesSubplot at 0xa9aca20>"
      ]
     },
     "execution_count": 60,
     "metadata": {},
     "output_type": "execute_result"
    },
    {
     "data": {
      "image/png": "[encoded data removed]",
      "text/plain": [
       "<matplotlib.figure.Figure at 0xa9ac470>"
      ]
     },
     "metadata": {},
     "output_type": "display_data"
    }
   ],
   "source": [
    "f, ax = plt.subplots(figsize=(10, 7))\n",
    "plt.xticks(rotation='90')\n",
    "sns.heatmap(corrmat, square=True, linewidths=.5, annot=True)"
   ]
  }
 ],
 "metadata": {
  "celltoolbar": "Raw Cell Format",
  "kernelspec": {
   "display_name": "Python 2",
   "language": "python",
   "name": "python2"
  },
  "language_info": {
   "codemirror_mode": {
    "name": "ipython",
    "version": 2
   },
   "file_extension": ".py",
   "mimetype": "text/x-python",
   "name": "python",
   "nbconvert_exporter": "python",
   "pygments_lexer": "ipython2",
   "version": "2.7.13"
  }
 },
 "nbformat": 4,
 "nbformat_minor": 0
}
