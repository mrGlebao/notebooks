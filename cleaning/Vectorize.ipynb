{
 "cells": [
  {
   "cell_type": "code",
   "execution_count": 1,
   "metadata": {
    "collapsed": true
   },
   "outputs": [],
   "source": [
    "import pandas as pd\n",
    "import numpy as np\n",
    "import scipy\n",
    "import matplotlib\n",
    "import sklearn\n",
    "import math\n",
    "import seaborn as sns\n",
    "color = sns.color_palette()\n",
    "from sklearn import preprocessing#, preprocessing\n",
    "from matplotlib import pyplot as plt\n",
    "from matplotlib import pylab as plb\n",
    "from matplotlib import cm as cm\n",
    "%matplotlib inline"
   ]
  },
  {
   "cell_type": "markdown",
   "metadata": {},
   "source": [
    "# Векторизация"
   ]
  },
  {
   "cell_type": "markdown",
   "metadata": {},
   "source": [
    "Хорошей идеей для дозаполнения данных будет научиться строить вектор соответствующий конкретной квартире. Тогда по углу между векторами можно будет судить о сходстве\\различии квартир, и на основе этого сходства можно будет предсказать незаполненные параметры.\n",
    "Итак, простейший способ - построить линейную модель над нормированными параметрами. Тогда мы автоматически представим каждую квартиру в n-мерном пространстве, где n-количество выбранных параметров, как вектор.\n",
    "Исследовать вопрос о переобучении. Скорее всего оно будет, из-за влияния статистики."
   ]
  },
  {
   "cell_type": "code",
   "execution_count": 2,
   "metadata": {
    "collapsed": false
   },
   "outputs": [
    {
     "data": {
      "text/html": [
       "<div>\n",
       "<table border=\"1\" class=\"dataframe\">\n",
       "  <thead>\n",
       "    <tr style=\"text-align: right;\">\n",
       "      <th></th>\n",
       "      <th>id</th>\n",
       "      <th>timestamp</th>\n",
       "      <th>full_sq</th>\n",
       "      <th>life_sq</th>\n",
       "      <th>floor</th>\n",
       "      <th>max_floor</th>\n",
       "      <th>material</th>\n",
       "      <th>build_year</th>\n",
       "      <th>num_room</th>\n",
       "      <th>kitch_sq</th>\n",
       "      <th>...</th>\n",
       "      <th>cafe_count_5000_price_2500</th>\n",
       "      <th>cafe_count_5000_price_4000</th>\n",
       "      <th>cafe_count_5000_price_high</th>\n",
       "      <th>big_church_count_5000</th>\n",
       "      <th>church_count_5000</th>\n",
       "      <th>mosque_count_5000</th>\n",
       "      <th>leisure_count_5000</th>\n",
       "      <th>sport_count_5000</th>\n",
       "      <th>market_count_5000</th>\n",
       "      <th>price_doc</th>\n",
       "    </tr>\n",
       "  </thead>\n",
       "  <tbody>\n",
       "    <tr>\n",
       "      <th>0</th>\n",
       "      <td>1</td>\n",
       "      <td>2011-08-20</td>\n",
       "      <td>43</td>\n",
       "      <td>27.0</td>\n",
       "      <td>4.0</td>\n",
       "      <td>NaN</td>\n",
       "      <td>NaN</td>\n",
       "      <td>NaN</td>\n",
       "      <td>NaN</td>\n",
       "      <td>NaN</td>\n",
       "      <td>...</td>\n",
       "      <td>9</td>\n",
       "      <td>4</td>\n",
       "      <td>0</td>\n",
       "      <td>13</td>\n",
       "      <td>22</td>\n",
       "      <td>1</td>\n",
       "      <td>0</td>\n",
       "      <td>52</td>\n",
       "      <td>4</td>\n",
       "      <td>5850000</td>\n",
       "    </tr>\n",
       "    <tr>\n",
       "      <th>1</th>\n",
       "      <td>2</td>\n",
       "      <td>2011-08-23</td>\n",
       "      <td>34</td>\n",
       "      <td>19.0</td>\n",
       "      <td>3.0</td>\n",
       "      <td>NaN</td>\n",
       "      <td>NaN</td>\n",
       "      <td>NaN</td>\n",
       "      <td>NaN</td>\n",
       "      <td>NaN</td>\n",
       "      <td>...</td>\n",
       "      <td>15</td>\n",
       "      <td>3</td>\n",
       "      <td>0</td>\n",
       "      <td>15</td>\n",
       "      <td>29</td>\n",
       "      <td>1</td>\n",
       "      <td>10</td>\n",
       "      <td>66</td>\n",
       "      <td>14</td>\n",
       "      <td>6000000</td>\n",
       "    </tr>\n",
       "    <tr>\n",
       "      <th>2</th>\n",
       "      <td>3</td>\n",
       "      <td>2011-08-27</td>\n",
       "      <td>43</td>\n",
       "      <td>29.0</td>\n",
       "      <td>2.0</td>\n",
       "      <td>NaN</td>\n",
       "      <td>NaN</td>\n",
       "      <td>NaN</td>\n",
       "      <td>NaN</td>\n",
       "      <td>NaN</td>\n",
       "      <td>...</td>\n",
       "      <td>10</td>\n",
       "      <td>3</td>\n",
       "      <td>0</td>\n",
       "      <td>11</td>\n",
       "      <td>27</td>\n",
       "      <td>0</td>\n",
       "      <td>4</td>\n",
       "      <td>67</td>\n",
       "      <td>10</td>\n",
       "      <td>5700000</td>\n",
       "    </tr>\n",
       "    <tr>\n",
       "      <th>3</th>\n",
       "      <td>4</td>\n",
       "      <td>2011-09-01</td>\n",
       "      <td>89</td>\n",
       "      <td>50.0</td>\n",
       "      <td>9.0</td>\n",
       "      <td>NaN</td>\n",
       "      <td>NaN</td>\n",
       "      <td>NaN</td>\n",
       "      <td>NaN</td>\n",
       "      <td>NaN</td>\n",
       "      <td>...</td>\n",
       "      <td>11</td>\n",
       "      <td>2</td>\n",
       "      <td>1</td>\n",
       "      <td>4</td>\n",
       "      <td>4</td>\n",
       "      <td>0</td>\n",
       "      <td>0</td>\n",
       "      <td>26</td>\n",
       "      <td>3</td>\n",
       "      <td>13100000</td>\n",
       "    </tr>\n",
       "    <tr>\n",
       "      <th>4</th>\n",
       "      <td>5</td>\n",
       "      <td>2011-09-05</td>\n",
       "      <td>77</td>\n",
       "      <td>77.0</td>\n",
       "      <td>4.0</td>\n",
       "      <td>NaN</td>\n",
       "      <td>NaN</td>\n",
       "      <td>NaN</td>\n",
       "      <td>NaN</td>\n",
       "      <td>NaN</td>\n",
       "      <td>...</td>\n",
       "      <td>319</td>\n",
       "      <td>108</td>\n",
       "      <td>17</td>\n",
       "      <td>135</td>\n",
       "      <td>236</td>\n",
       "      <td>2</td>\n",
       "      <td>91</td>\n",
       "      <td>195</td>\n",
       "      <td>14</td>\n",
       "      <td>16331452</td>\n",
       "    </tr>\n",
       "  </tbody>\n",
       "</table>\n",
       "<p>5 rows × 292 columns</p>\n",
       "</div>"
      ],
      "text/plain": [
       "   id   timestamp  full_sq  life_sq  floor  max_floor  material  build_year  \\\n",
       "0   1  2011-08-20       43     27.0    4.0        NaN       NaN         NaN   \n",
       "1   2  2011-08-23       34     19.0    3.0        NaN       NaN         NaN   \n",
       "2   3  2011-08-27       43     29.0    2.0        NaN       NaN         NaN   \n",
       "3   4  2011-09-01       89     50.0    9.0        NaN       NaN         NaN   \n",
       "4   5  2011-09-05       77     77.0    4.0        NaN       NaN         NaN   \n",
       "\n",
       "   num_room  kitch_sq    ...      cafe_count_5000_price_2500  \\\n",
       "0       NaN       NaN    ...                               9   \n",
       "1       NaN       NaN    ...                              15   \n",
       "2       NaN       NaN    ...                              10   \n",
       "3       NaN       NaN    ...                              11   \n",
       "4       NaN       NaN    ...                             319   \n",
       "\n",
       "  cafe_count_5000_price_4000 cafe_count_5000_price_high  \\\n",
       "0                          4                          0   \n",
       "1                          3                          0   \n",
       "2                          3                          0   \n",
       "3                          2                          1   \n",
       "4                        108                         17   \n",
       "\n",
       "   big_church_count_5000  church_count_5000  mosque_count_5000  \\\n",
       "0                     13                 22                  1   \n",
       "1                     15                 29                  1   \n",
       "2                     11                 27                  0   \n",
       "3                      4                  4                  0   \n",
       "4                    135                236                  2   \n",
       "\n",
       "   leisure_count_5000  sport_count_5000  market_count_5000  price_doc  \n",
       "0                   0                52                  4    5850000  \n",
       "1                  10                66                 14    6000000  \n",
       "2                   4                67                 10    5700000  \n",
       "3                   0                26                  3   13100000  \n",
       "4                  91               195                 14   16331452  \n",
       "\n",
       "[5 rows x 292 columns]"
      ]
     },
     "execution_count": 2,
     "metadata": {},
     "output_type": "execute_result"
    }
   ],
   "source": [
    "train = pd.read_csv(\"train.csv\", encoding= \"utf_8\")\n",
    "test = pd.read_csv(\"test.csv\", encoding= \"utf_8\")\n",
    "train.head()"
   ]
  },
  {
   "cell_type": "markdown",
   "metadata": {},
   "source": [
    "Введём пространство признаков, в котором будем строить вектор квартиры. Будем считать, что признаки влияют в равной степени, хотя это и не обязательно."
   ]
  },
  {
   "cell_type": "code",
   "execution_count": 3,
   "metadata": {
    "collapsed": true
   },
   "outputs": [],
   "source": [
    "basis = [\"price_doc\", \"full_sq\", \"life_sq\",\n",
    "\"floor\", \"max_floor\", \"material\", \"build_year\", \"num_room\",\n",
    "\"kitch_sq\", \"state\"]"
   ]
  },
  {
   "cell_type": "markdown",
   "metadata": {},
   "source": [
    "Нормировать будем на среднее либо моду, чтобы выбросы оказали меньше влияния на вид результата Нужно придумать правила для build_year"
   ]
  },
  {
   "cell_type": "code",
   "execution_count": 4,
   "metadata": {
    "collapsed": false
   },
   "outputs": [
    {
     "data": {
      "text/html": [
       "<div>\n",
       "<table border=\"1\" class=\"dataframe\">\n",
       "  <thead>\n",
       "    <tr style=\"text-align: right;\">\n",
       "      <th></th>\n",
       "      <th>price_doc</th>\n",
       "      <th>full_sq</th>\n",
       "      <th>life_sq</th>\n",
       "      <th>floor</th>\n",
       "      <th>max_floor</th>\n",
       "      <th>material</th>\n",
       "      <th>build_year</th>\n",
       "      <th>num_room</th>\n",
       "      <th>kitch_sq</th>\n",
       "      <th>state</th>\n",
       "    </tr>\n",
       "  </thead>\n",
       "  <tbody>\n",
       "    <tr>\n",
       "      <th>0</th>\n",
       "      <td>5850000</td>\n",
       "      <td>43</td>\n",
       "      <td>27.0</td>\n",
       "      <td>4.0</td>\n",
       "      <td>NaN</td>\n",
       "      <td>NaN</td>\n",
       "      <td>NaN</td>\n",
       "      <td>NaN</td>\n",
       "      <td>NaN</td>\n",
       "      <td>NaN</td>\n",
       "    </tr>\n",
       "    <tr>\n",
       "      <th>1</th>\n",
       "      <td>6000000</td>\n",
       "      <td>34</td>\n",
       "      <td>19.0</td>\n",
       "      <td>3.0</td>\n",
       "      <td>NaN</td>\n",
       "      <td>NaN</td>\n",
       "      <td>NaN</td>\n",
       "      <td>NaN</td>\n",
       "      <td>NaN</td>\n",
       "      <td>NaN</td>\n",
       "    </tr>\n",
       "    <tr>\n",
       "      <th>2</th>\n",
       "      <td>5700000</td>\n",
       "      <td>43</td>\n",
       "      <td>29.0</td>\n",
       "      <td>2.0</td>\n",
       "      <td>NaN</td>\n",
       "      <td>NaN</td>\n",
       "      <td>NaN</td>\n",
       "      <td>NaN</td>\n",
       "      <td>NaN</td>\n",
       "      <td>NaN</td>\n",
       "    </tr>\n",
       "  </tbody>\n",
       "</table>\n",
       "</div>"
      ],
      "text/plain": [
       "   price_doc  full_sq  life_sq  floor  max_floor  material  build_year  \\\n",
       "0    5850000       43     27.0    4.0        NaN       NaN         NaN   \n",
       "1    6000000       34     19.0    3.0        NaN       NaN         NaN   \n",
       "2    5700000       43     29.0    2.0        NaN       NaN         NaN   \n",
       "\n",
       "   num_room  kitch_sq  state  \n",
       "0       NaN       NaN    NaN  \n",
       "1       NaN       NaN    NaN  \n",
       "2       NaN       NaN    NaN  "
      ]
     },
     "execution_count": 4,
     "metadata": {},
     "output_type": "execute_result"
    }
   ],
   "source": [
    "data = train[basis]\n",
    "data.head(3)"
   ]
  },
  {
   "cell_type": "markdown",
   "metadata": {},
   "source": [
    "## Очистка NaN"
   ]
  },
  {
   "cell_type": "markdown",
   "metadata": {},
   "source": [
    "Как видим, в данных очень много NaN. При сравнении они будут нам мешать, поэтому заменим их на median / mode по столбцу, в зависимости от того, категориальный признак или целочисленный."
   ]
  },
  {
   "cell_type": "code",
   "execution_count": 5,
   "metadata": {
    "collapsed": true
   },
   "outputs": [],
   "source": [
    "def modifyNans(columns, dataset, isEnumeral):\n",
    "    for j in columns:\n",
    "        if(isEnumeral == TRUE):\n",
    "            train.loc[train[j].isnull(),j]=train.loc[train[j].notnull(),j].median()\n",
    "        if(isEnumeral == False): \n",
    "            dataset.loc[(dataset[column].isnull()), column] = dataset.loc[(dataset[column].notnull()), column].median()"
   ]
  },
  {
   "cell_type": "markdown",
   "metadata": {},
   "source": [
    "Часть переменных можно представить в виде значений с плавающей точкой. Для них нормировку будем производить по медианному значению.\n",
    "Корелляция"
   ]
  },
  {
   "cell_type": "code",
   "execution_count": 6,
   "metadata": {
    "collapsed": false
   },
   "outputs": [
    {
     "name": "stderr",
     "output_type": "stream",
     "text": [
      "C:\\Anaconda2\\lib\\site-packages\\pandas\\core\\indexing.py:461: SettingWithCopyWarning: \n",
      "A value is trying to be set on a copy of a slice from a DataFrame.\n",
      "Try using .loc[row_indexer,col_indexer] = value instead\n",
      "\n",
      "See the caveats in the documentation: http://pandas.pydata.org/pandas-docs/stable/indexing.html#indexing-view-versus-copy\n",
      "  self.obj[item] = s\n",
      "C:\\Anaconda2\\lib\\site-packages\\pandas\\core\\indexing.py:128: SettingWithCopyWarning: \n",
      "A value is trying to be set on a copy of a slice from a DataFrame\n",
      "\n",
      "See the caveats in the documentation: http://pandas.pydata.org/pandas-docs/stable/indexing.html#indexing-view-versus-copy\n",
      "  self._setitem_with_indexer(indexer, value)\n",
      "C:\\Anaconda2\\lib\\site-packages\\ipykernel\\__main__.py:3: SettingWithCopyWarning: \n",
      "A value is trying to be set on a copy of a slice from a DataFrame\n",
      "\n",
      "See the caveats in the documentation: http://pandas.pydata.org/pandas-docs/stable/indexing.html#indexing-view-versus-copy\n",
      "  app.launch_new_instance()\n"
     ]
    },
    {
     "data": {
      "text/html": [
       "<div>\n",
       "<table border=\"1\" class=\"dataframe\">\n",
       "  <thead>\n",
       "    <tr style=\"text-align: right;\">\n",
       "      <th></th>\n",
       "      <th>price_doc</th>\n",
       "      <th>full_sq</th>\n",
       "      <th>life_sq</th>\n",
       "      <th>kitch_sq</th>\n",
       "      <th>build_year</th>\n",
       "    </tr>\n",
       "  </thead>\n",
       "  <tbody>\n",
       "    <tr>\n",
       "      <th>0</th>\n",
       "      <td>5850000.0</td>\n",
       "      <td>43.0</td>\n",
       "      <td>27.0</td>\n",
       "      <td>6.0</td>\n",
       "      <td>1979.0</td>\n",
       "    </tr>\n",
       "    <tr>\n",
       "      <th>1</th>\n",
       "      <td>6000000.0</td>\n",
       "      <td>34.0</td>\n",
       "      <td>19.0</td>\n",
       "      <td>6.0</td>\n",
       "      <td>1979.0</td>\n",
       "    </tr>\n",
       "    <tr>\n",
       "      <th>2</th>\n",
       "      <td>5700000.0</td>\n",
       "      <td>43.0</td>\n",
       "      <td>29.0</td>\n",
       "      <td>6.0</td>\n",
       "      <td>1979.0</td>\n",
       "    </tr>\n",
       "  </tbody>\n",
       "</table>\n",
       "</div>"
      ],
      "text/plain": [
       "   price_doc  full_sq  life_sq  kitch_sq  build_year\n",
       "0  5850000.0     43.0     27.0       6.0      1979.0\n",
       "1  6000000.0     34.0     19.0       6.0      1979.0\n",
       "2  5700000.0     43.0     29.0       6.0      1979.0"
      ]
     },
     "execution_count": 6,
     "metadata": {},
     "output_type": "execute_result"
    }
   ],
   "source": [
    "basis_float = [\"price_doc\", \"full_sq\", \"life_sq\",\"kitch_sq\", \"build_year\"]\n",
    "for j in basis_float:\n",
    "    data.loc[data[j].isnull(),j]=data.loc[train[j].notnull(),j].median()\n",
    "data[basis_float].head(3)"
   ]
  },
  {
   "cell_type": "code",
   "execution_count": 7,
   "metadata": {
    "collapsed": false
   },
   "outputs": [
    {
     "name": "stderr",
     "output_type": "stream",
     "text": [
      "C:\\Anaconda2\\lib\\site-packages\\ipykernel\\__main__.py:3: SettingWithCopyWarning: \n",
      "A value is trying to be set on a copy of a slice from a DataFrame\n",
      "\n",
      "See the caveats in the documentation: http://pandas.pydata.org/pandas-docs/stable/indexing.html#indexing-view-versus-copy\n",
      "  app.launch_new_instance()\n"
     ]
    },
    {
     "data": {
      "text/html": [
       "<div>\n",
       "<table border=\"1\" class=\"dataframe\">\n",
       "  <thead>\n",
       "    <tr style=\"text-align: right;\">\n",
       "      <th></th>\n",
       "      <th>price_doc</th>\n",
       "      <th>full_sq</th>\n",
       "      <th>life_sq</th>\n",
       "      <th>floor</th>\n",
       "      <th>max_floor</th>\n",
       "      <th>material</th>\n",
       "      <th>build_year</th>\n",
       "      <th>num_room</th>\n",
       "      <th>kitch_sq</th>\n",
       "      <th>state</th>\n",
       "    </tr>\n",
       "  </thead>\n",
       "  <tbody>\n",
       "    <tr>\n",
       "      <th>0</th>\n",
       "      <td>5850000.0</td>\n",
       "      <td>43.0</td>\n",
       "      <td>27.0</td>\n",
       "      <td>4.0</td>\n",
       "      <td>12.0</td>\n",
       "      <td>1.0</td>\n",
       "      <td>1979.0</td>\n",
       "      <td>2.0</td>\n",
       "      <td>6.0</td>\n",
       "      <td>2.0</td>\n",
       "    </tr>\n",
       "    <tr>\n",
       "      <th>1</th>\n",
       "      <td>6000000.0</td>\n",
       "      <td>34.0</td>\n",
       "      <td>19.0</td>\n",
       "      <td>3.0</td>\n",
       "      <td>12.0</td>\n",
       "      <td>1.0</td>\n",
       "      <td>1979.0</td>\n",
       "      <td>2.0</td>\n",
       "      <td>6.0</td>\n",
       "      <td>2.0</td>\n",
       "    </tr>\n",
       "    <tr>\n",
       "      <th>2</th>\n",
       "      <td>5700000.0</td>\n",
       "      <td>43.0</td>\n",
       "      <td>29.0</td>\n",
       "      <td>2.0</td>\n",
       "      <td>12.0</td>\n",
       "      <td>1.0</td>\n",
       "      <td>1979.0</td>\n",
       "      <td>2.0</td>\n",
       "      <td>6.0</td>\n",
       "      <td>2.0</td>\n",
       "    </tr>\n",
       "  </tbody>\n",
       "</table>\n",
       "</div>"
      ],
      "text/plain": [
       "   price_doc  full_sq  life_sq  floor  max_floor  material  build_year  \\\n",
       "0  5850000.0     43.0     27.0    4.0       12.0       1.0      1979.0   \n",
       "1  6000000.0     34.0     19.0    3.0       12.0       1.0      1979.0   \n",
       "2  5700000.0     43.0     29.0    2.0       12.0       1.0      1979.0   \n",
       "\n",
       "   num_room  kitch_sq  state  \n",
       "0       2.0       6.0    2.0  \n",
       "1       2.0       6.0    2.0  \n",
       "2       2.0       6.0    2.0  "
      ]
     },
     "execution_count": 7,
     "metadata": {},
     "output_type": "execute_result"
    }
   ],
   "source": [
    "basis_int = [\"floor\", \"max_floor\", \"material\", \"num_room\", \"state\"]\n",
    "for j in basis_int:\n",
    "    data.loc[data[j].isnull(),j]=data.loc[train[j].notnull(),j].median()\n",
    "data.head(3)"
   ]
  },
  {
   "cell_type": "markdown",
   "metadata": {},
   "source": [
    "Есть переменные, которые с высокой долей вероятности говорят о том, что квартиры находятся в одном доме."
   ]
  },
  {
   "cell_type": "markdown",
   "metadata": {},
   "source": [
    "//Нормируем вектора, чтобы декартово рacстояние имело смысл."
   ]
  },
  {
   "cell_type": "code",
   "execution_count": 8,
   "metadata": {
    "collapsed": false
   },
   "outputs": [
    {
     "name": "stderr",
     "output_type": "stream",
     "text": [
      "C:\\Anaconda2\\lib\\site-packages\\ipykernel\\__main__.py:3: SettingWithCopyWarning: \n",
      "A value is trying to be set on a copy of a slice from a DataFrame.\n",
      "Try using .loc[row_indexer,col_indexer] = value instead\n",
      "\n",
      "See the caveats in the documentation: http://pandas.pydata.org/pandas-docs/stable/indexing.html#indexing-view-versus-copy\n",
      "  app.launch_new_instance()\n"
     ]
    },
    {
     "data": {
      "text/html": [
       "<div>\n",
       "<table border=\"1\" class=\"dataframe\">\n",
       "  <thead>\n",
       "    <tr style=\"text-align: right;\">\n",
       "      <th></th>\n",
       "      <th>price_doc</th>\n",
       "      <th>full_sq</th>\n",
       "      <th>life_sq</th>\n",
       "      <th>floor</th>\n",
       "      <th>max_floor</th>\n",
       "      <th>material</th>\n",
       "      <th>build_year</th>\n",
       "      <th>num_room</th>\n",
       "      <th>kitch_sq</th>\n",
       "      <th>state</th>\n",
       "    </tr>\n",
       "  </thead>\n",
       "  <tbody>\n",
       "    <tr>\n",
       "      <th>0</th>\n",
       "      <td>0.932358</td>\n",
       "      <td>0.877551</td>\n",
       "      <td>0.900000</td>\n",
       "      <td>0.615385</td>\n",
       "      <td>1.0</td>\n",
       "      <td>1.0</td>\n",
       "      <td>1.0</td>\n",
       "      <td>1.0</td>\n",
       "      <td>1.0</td>\n",
       "      <td>1.0</td>\n",
       "    </tr>\n",
       "    <tr>\n",
       "      <th>1</th>\n",
       "      <td>0.956265</td>\n",
       "      <td>0.693878</td>\n",
       "      <td>0.633333</td>\n",
       "      <td>0.461538</td>\n",
       "      <td>1.0</td>\n",
       "      <td>1.0</td>\n",
       "      <td>1.0</td>\n",
       "      <td>1.0</td>\n",
       "      <td>1.0</td>\n",
       "      <td>1.0</td>\n",
       "    </tr>\n",
       "    <tr>\n",
       "      <th>2</th>\n",
       "      <td>0.908452</td>\n",
       "      <td>0.877551</td>\n",
       "      <td>0.966667</td>\n",
       "      <td>0.307692</td>\n",
       "      <td>1.0</td>\n",
       "      <td>1.0</td>\n",
       "      <td>1.0</td>\n",
       "      <td>1.0</td>\n",
       "      <td>1.0</td>\n",
       "      <td>1.0</td>\n",
       "    </tr>\n",
       "    <tr>\n",
       "      <th>3</th>\n",
       "      <td>2.087845</td>\n",
       "      <td>1.816327</td>\n",
       "      <td>1.666667</td>\n",
       "      <td>1.384615</td>\n",
       "      <td>1.0</td>\n",
       "      <td>1.0</td>\n",
       "      <td>1.0</td>\n",
       "      <td>1.0</td>\n",
       "      <td>1.0</td>\n",
       "      <td>1.0</td>\n",
       "    </tr>\n",
       "    <tr>\n",
       "      <th>4</th>\n",
       "      <td>2.602866</td>\n",
       "      <td>1.571429</td>\n",
       "      <td>2.566667</td>\n",
       "      <td>0.615385</td>\n",
       "      <td>1.0</td>\n",
       "      <td>1.0</td>\n",
       "      <td>1.0</td>\n",
       "      <td>1.0</td>\n",
       "      <td>1.0</td>\n",
       "      <td>1.0</td>\n",
       "    </tr>\n",
       "  </tbody>\n",
       "</table>\n",
       "</div>"
      ],
      "text/plain": [
       "   price_doc   full_sq   life_sq     floor  max_floor  material  build_year  \\\n",
       "0   0.932358  0.877551  0.900000  0.615385        1.0       1.0         1.0   \n",
       "1   0.956265  0.693878  0.633333  0.461538        1.0       1.0         1.0   \n",
       "2   0.908452  0.877551  0.966667  0.307692        1.0       1.0         1.0   \n",
       "3   2.087845  1.816327  1.666667  1.384615        1.0       1.0         1.0   \n",
       "4   2.602866  1.571429  2.566667  0.615385        1.0       1.0         1.0   \n",
       "\n",
       "   num_room  kitch_sq  state  \n",
       "0       1.0       1.0    1.0  \n",
       "1       1.0       1.0    1.0  \n",
       "2       1.0       1.0    1.0  \n",
       "3       1.0       1.0    1.0  \n",
       "4       1.0       1.0    1.0  "
      ]
     },
     "execution_count": 8,
     "metadata": {},
     "output_type": "execute_result"
    }
   ],
   "source": [
    "data_normed=data\n",
    "for elem in basis:\n",
    "    data_normed[elem] = data[elem] / data.loc[data[elem].notnull(),elem].median()\n",
    "#     data_normed.loc[data_normed[elem].isnull(),elem]=data_normed.loc[data_normed[elem].notnull(),elem].median()\n",
    "data_normed.head()"
   ]
  },
  {
   "cell_type": "markdown",
   "metadata": {},
   "source": [
    "Наивным предположением будет предположение о том, что все координаты равносильны, и каждую при рассчёте вектора нужно брать с коэффициентом 1. Тогда по-сути вектор - это сумма значений, умноженных на соответствующие базисные вектора. В таком случае в качестве длины вектора можно рассматривать корень из суммы квадратов координат, а в качестве расстояния - косинусное расстояние между векторами либо, в силу нормированности векторов, декартово расстояние.\n",
    "\n",
    "Будем использовать косинусное расстояние."
   ]
  },
  {
   "cell_type": "code",
   "execution_count": 9,
   "metadata": {
    "collapsed": true
   },
   "outputs": [],
   "source": [
    "def findLength(row):\n",
    "    length = 0\n",
    "    for a in row:\n",
    "        if(np.isnan(a)==False):\n",
    "            length += np.square(a)\n",
    "    return np.sqrt(length)"
   ]
  },
  {
   "cell_type": "code",
   "execution_count": 10,
   "metadata": {
    "collapsed": false
   },
   "outputs": [
    {
     "name": "stdout",
     "output_type": "stream",
     "text": [
      "price_doc     0.932358\n",
      "full_sq       0.877551\n",
      "life_sq       0.900000\n",
      "floor         0.615385\n",
      "max_floor     1.000000\n",
      "material      1.000000\n",
      "build_year    1.000000\n",
      "num_room      1.000000\n",
      "kitch_sq      1.000000\n",
      "state         1.000000\n",
      "Name: 0, dtype: float64\n",
      "2.97120956237\n"
     ]
    }
   ],
   "source": [
    "print data.iloc[0]\n",
    "print findLength(data.iloc[0])"
   ]
  },
  {
   "cell_type": "code",
   "execution_count": 11,
   "metadata": {
    "collapsed": true
   },
   "outputs": [],
   "source": [
    "def findDiff(vec1, vec2):\n",
    "    resultSquared = 0.0\n",
    "    columns = vec1.axes[0]\n",
    "    columns2 = vec2.axes[0]\n",
    "    if(len(columns) != len(columns2)):\n",
    "        return -1\n",
    "    for columnName in columns:\n",
    "        #if(np.isnan(vec1[columnName]) == False & np.isnan(vec2[columnName]) == False):\n",
    "          if(columnName != 'build_year'):\n",
    "            resultSquared+=np.square(vec1[columnName] - vec2[columnName])\n",
    "    return np.sqrt(resultSquared)"
   ]
  },
  {
   "cell_type": "code",
   "execution_count": 12,
   "metadata": {
    "collapsed": false
   },
   "outputs": [
    {
     "name": "stdout",
     "output_type": "stream",
     "text": [
      "7.8789087274\n"
     ]
    }
   ],
   "source": [
    "lengths = []\n",
    "i=900\n",
    "for index, row in data.iterrows():\n",
    "    lengths.append(findLength(row))\n",
    "lengths = np.sort(lengths)\n",
    "lengths = lengths[0:30100]\n",
    "print np.max(lengths)"
   ]
  },
  {
   "cell_type": "code",
   "execution_count": 13,
   "metadata": {
    "collapsed": false
   },
   "outputs": [
    {
     "data": {
      "image/png": "[encoded data removed]",
      "text/plain": [
       "<matplotlib.figure.Figure at 0xaaefcf8>"
      ]
     },
     "metadata": {},
     "output_type": "display_data"
    }
   ],
   "source": [
    "plt.figure(figsize=(12,8))\n",
    "plt.hist(lengths, bins=50)\n",
    "plt.ylabel('frequency', fontsize=12)\n",
    "plt.xlabel('length', fontsize=12)\n",
    "plt.show()"
   ]
  },
  {
   "cell_type": "markdown",
   "metadata": {},
   "source": [
    "Построить гистограмму длин векторов, разобраться, что за странные выбросы присутствуют:"
   ]
  },
  {
   "cell_type": "markdown",
   "metadata": {},
   "source": [
    "## Косинусное расстояние"
   ]
  },
  {
   "cell_type": "code",
   "execution_count": 51,
   "metadata": {
    "collapsed": false
   },
   "outputs": [],
   "source": [
    "train = pd.read_csv(\"train.csv\", encoding= \"utf_8\")\n",
    "test = pd.read_csv(\"test.csv\", encoding= \"utf_8\")"
   ]
  },
  {
   "cell_type": "code",
   "execution_count": 56,
   "metadata": {
    "collapsed": true
   },
   "outputs": [],
   "source": [
    "basis = [\"price_doc\", \"full_sq\", \"life_sq\",\n",
    "\"floor\", \"max_floor\", \"material\", \"build_year\", \"num_room\",\n",
    "\"kitch_sq\", \"state\"]"
   ]
  },
  {
   "cell_type": "code",
   "execution_count": 57,
   "metadata": {
    "collapsed": true
   },
   "outputs": [],
   "source": [
    "data = train[basis]"
   ]
  },
  {
   "cell_type": "code",
   "execution_count": 58,
   "metadata": {
    "collapsed": false
   },
   "outputs": [
    {
     "data": {
      "text/html": [
       "<div>\n",
       "<table border=\"1\" class=\"dataframe\">\n",
       "  <thead>\n",
       "    <tr style=\"text-align: right;\">\n",
       "      <th></th>\n",
       "      <th>price_doc</th>\n",
       "      <th>full_sq</th>\n",
       "      <th>life_sq</th>\n",
       "      <th>floor</th>\n",
       "      <th>max_floor</th>\n",
       "      <th>material</th>\n",
       "      <th>build_year</th>\n",
       "      <th>num_room</th>\n",
       "      <th>kitch_sq</th>\n",
       "      <th>state</th>\n",
       "    </tr>\n",
       "  </thead>\n",
       "  <tbody>\n",
       "    <tr>\n",
       "      <th>0</th>\n",
       "      <td>5850000</td>\n",
       "      <td>43</td>\n",
       "      <td>27.0</td>\n",
       "      <td>4.0</td>\n",
       "      <td>NaN</td>\n",
       "      <td>NaN</td>\n",
       "      <td>NaN</td>\n",
       "      <td>NaN</td>\n",
       "      <td>NaN</td>\n",
       "      <td>NaN</td>\n",
       "    </tr>\n",
       "    <tr>\n",
       "      <th>1</th>\n",
       "      <td>6000000</td>\n",
       "      <td>34</td>\n",
       "      <td>19.0</td>\n",
       "      <td>3.0</td>\n",
       "      <td>NaN</td>\n",
       "      <td>NaN</td>\n",
       "      <td>NaN</td>\n",
       "      <td>NaN</td>\n",
       "      <td>NaN</td>\n",
       "      <td>NaN</td>\n",
       "    </tr>\n",
       "  </tbody>\n",
       "</table>\n",
       "</div>"
      ],
      "text/plain": [
       "   price_doc  full_sq  life_sq  floor  max_floor  material  build_year  \\\n",
       "0    5850000       43     27.0    4.0        NaN       NaN         NaN   \n",
       "1    6000000       34     19.0    3.0        NaN       NaN         NaN   \n",
       "\n",
       "   num_room  kitch_sq  state  \n",
       "0       NaN       NaN    NaN  \n",
       "1       NaN       NaN    NaN  "
      ]
     },
     "execution_count": 58,
     "metadata": {},
     "output_type": "execute_result"
    }
   ],
   "source": [
    "data.head(2)"
   ]
  },
  {
   "cell_type": "markdown",
   "metadata": {},
   "source": [
    "В недрах scipy была найдена функция\n",
    "scipy.spatial.distance.cosine, \n",
    "которая возвращает косинусное расстояние между двумя одномерными массивами.\n",
    "На основании неё была создана функция, измеряющая косинусное расстояние между векторами."
   ]
  },
  {
   "cell_type": "code",
   "execution_count": 64,
   "metadata": {
    "collapsed": false
   },
   "outputs": [],
   "source": [
    "def findCosineDiff(vec1, vec2):\n",
    "    resultSquared = 0.0\n",
    "    vec1Array = np.array([])\n",
    "    vec2Array = np.array([])\n",
    "    columns = vec1.axes[0]\n",
    "    columns2 = vec2.axes[0]\n",
    "    if(len(columns) != len(columns2)):\n",
    "        return -1\n",
    "    for columnName in columns:\n",
    "        result1 = vec1[columnName]\n",
    "        result2 = vec2[columnName]\n",
    "        if(np.isfinite(result1) == True and np.isfinite(result2) == True):\n",
    "            vec1Array = np.append(vec1Array, result1)\n",
    "            vec2Array = np.append(vec2Array, result2)\n",
    "#     print vec1Array\n",
    "#     print vec2Array\n",
    "    return scipy.spatial.distance.cosine(vec1Array, vec2Array)"
   ]
  },
  {
   "cell_type": "code",
   "execution_count": 65,
   "metadata": {
    "collapsed": false
   },
   "outputs": [
    {
     "data": {
      "text/plain": [
       "False"
      ]
     },
     "execution_count": 65,
     "metadata": {},
     "output_type": "execute_result"
    }
   ],
   "source": [
    "np.isfinite(np.NaN)"
   ]
  },
  {
   "cell_type": "code",
   "execution_count": 66,
   "metadata": {
    "collapsed": false
   },
   "outputs": [
    {
     "name": "stdout",
     "output_type": "stream",
     "text": [
      "price_doc     5850000.0\n",
      "full_sq            43.0\n",
      "life_sq            27.0\n",
      "floor               4.0\n",
      "max_floor           NaN\n",
      "material            NaN\n",
      "build_year          NaN\n",
      "num_room            NaN\n",
      "kitch_sq            NaN\n",
      "state               NaN\n",
      "Name: 0, dtype: float64\n",
      " \n",
      "price_doc     11500000.0\n",
      "full_sq             98.0\n",
      "life_sq             94.0\n",
      "floor                NaN\n",
      "max_floor            NaN\n",
      "material             NaN\n",
      "build_year           NaN\n",
      "num_room             NaN\n",
      "kitch_sq             NaN\n",
      "state                NaN\n",
      "Name: 178, dtype: float64\n"
     ]
    },
    {
     "data": {
      "text/plain": [
       "7.0174976940506895e-12"
      ]
     },
     "execution_count": 66,
     "metadata": {},
     "output_type": "execute_result"
    }
   ],
   "source": [
    "print data.iloc[0]\n",
    "print \" \"\n",
    "print data.iloc[178]\n",
    "findCosineDiff(data.iloc[0], data.iloc[178])"
   ]
  },
  {
   "cell_type": "markdown",
   "metadata": {},
   "source": [
    "Построим гисторамму косинусного расстояния"
   ]
  },
  {
   "cell_type": "code",
   "execution_count": 67,
   "metadata": {
    "collapsed": true
   },
   "outputs": [],
   "source": [
    "def plotHist(data, elemIndex):\n",
    "#     np.histogram(data, bins=100)\n",
    "    plt.figure(figsize=(12,8))\n",
    "    plt.hist(data, bins=30)\n",
    "    plt.ylabel('frequency', fontsize=12)\n",
    "    plt.xlabel('cosine diff', fontsize=12)\n",
    "    plt.show()"
   ]
  },
  {
   "cell_type": "code",
   "execution_count": 68,
   "metadata": {
    "collapsed": false
   },
   "outputs": [],
   "source": [
    "lengths = np.array([])\n",
    "for i in range(0, 1):\n",
    "    for index, row in data.iterrows():\n",
    "        a = (findCosineDiff(data.iloc[i], row))\n",
    "        if(np.isfinite(a) == True and np.isnan(a) == False):\n",
    "            lengths = np.append(lengths, a)\n",
    "\n",
    "        # lengths = np.sort(lengths)\n",
    "    # lengths = lengths[0:30100]\n",
    "    # print np.max(lengths)"
   ]
  },
  {
   "cell_type": "code",
   "execution_count": 69,
   "metadata": {
    "collapsed": false
   },
   "outputs": [
    {
     "data": {
      "image/png": "[encoded data removed]",
      "text/plain": [
       "<matplotlib.figure.Figure at 0xd996c18>"
      ]
     },
     "metadata": {},
     "output_type": "display_data"
    }
   ],
   "source": [
    "lengths[0]\n",
    "len(lengths)\n",
    "plotHist(lengths, 1)"
   ]
  },
  {
   "cell_type": "markdown",
   "metadata": {
    "collapsed": true
   },
   "source": [
    "## Дозаполнение"
   ]
  },
  {
   "cell_type": "markdown",
   "metadata": {},
   "source": [
    "Как видим, сходство можно считать большим для косинусного расстояния порядка 0.05\n",
    "\n",
    "Отобразим пару таких \"похожих\" векторов."
   ]
  },
  {
   "cell_type": "code",
   "execution_count": 71,
   "metadata": {
    "collapsed": false
   },
   "outputs": [
    {
     "name": "stdout",
     "output_type": "stream",
     "text": [
      "price_doc     5850000.0\n",
      "full_sq            43.0\n",
      "life_sq            27.0\n",
      "floor               4.0\n",
      "max_floor           NaN\n",
      "material            NaN\n",
      "build_year          NaN\n",
      "num_room            NaN\n",
      "kitch_sq            NaN\n",
      "state               NaN\n",
      "Name: 0, dtype: float64\n",
      " \n",
      "row2\n",
      "price_doc     5700000.0\n",
      "full_sq            43.0\n",
      "life_sq            29.0\n",
      "floor               2.0\n",
      "max_floor           NaN\n",
      "material            NaN\n",
      "build_year          NaN\n",
      "num_room            NaN\n",
      "kitch_sq            NaN\n",
      "state               NaN\n",
      "Name: 2, dtype: float64\n"
     ]
    }
   ],
   "source": [
    "print data.iloc[0]\n",
    "for index, row in data.iterrows():\n",
    "#     12423\n",
    "        a = (findCosineDiff(data.iloc[0], row))\n",
    "        if(a < 0.03 and index > 1):\n",
    "            print \" \"\n",
    "            print \"row\"+str(index)\n",
    "            print row\n",
    "            break"
   ]
  },
  {
   "cell_type": "markdown",
   "metadata": {},
   "source": [
    "Как видим, например, посредством 12423 можно дозаполнить 0:"
   ]
  },
  {
   "cell_type": "code",
   "execution_count": 72,
   "metadata": {
    "collapsed": false
   },
   "outputs": [
    {
     "name": "stdout",
     "output_type": "stream",
     "text": [
      "price_doc     5850000.0\n",
      "full_sq            43.0\n",
      "life_sq            27.0\n",
      "floor               4.0\n",
      "max_floor           NaN\n",
      "material            NaN\n",
      "build_year          NaN\n",
      "num_room            NaN\n",
      "kitch_sq            NaN\n",
      "state               NaN\n",
      "Name: 0, dtype: float64\n",
      " \n",
      "price_doc     6150000.0\n",
      "full_sq            45.0\n",
      "life_sq            29.0\n",
      "floor               4.0\n",
      "max_floor           5.0\n",
      "material            2.0\n",
      "build_year       1963.0\n",
      "num_room            2.0\n",
      "kitch_sq            5.0\n",
      "state               3.0\n",
      "Name: 25181, dtype: float64\n"
     ]
    }
   ],
   "source": [
    "print data.iloc[0]\n",
    "print \" \"\n",
    "print data.iloc[25181]"
   ]
  },
  {
   "cell_type": "code",
   "execution_count": 73,
   "metadata": {
    "collapsed": true
   },
   "outputs": [],
   "source": [
    "def fill(fromElemIndex, toElemIndex, dataset):\n",
    "    fromElem = dataset.iloc[fromElemIndex]\n",
    "    toElem = dataset.iloc[toElemIndex]\n",
    "    columns = fromElem.axes[0]\n",
    "    for columnName in columns:\n",
    "        if(np.isnan(toElem[columnName]) == True and np.isnan(fromElem[columnName]) == False):\n",
    "            print columnName\n",
    "            print \"from \"+str(fromElem[columnName])+\" to \"+str(toElem[columnName])\n",
    "            dataset.ix[toElemIndex, columnName] = dataset.ix[fromElemIndex, columnName]"
   ]
  },
  {
   "cell_type": "code",
   "execution_count": 74,
   "metadata": {
    "collapsed": false
   },
   "outputs": [
    {
     "name": "stdout",
     "output_type": "stream",
     "text": [
      "max_floor\n",
      "from 5.0 to nan\n",
      "material\n",
      "from 2.0 to nan\n",
      "build_year\n",
      "from 1963.0 to nan\n",
      "num_room\n",
      "from 2.0 to nan\n",
      "kitch_sq\n",
      "from 5.0 to nan\n",
      "state\n",
      "from 3.0 to nan\n"
     ]
    }
   ],
   "source": [
    "fill(25181, 0, data)"
   ]
  },
  {
   "cell_type": "code",
   "execution_count": 75,
   "metadata": {
    "collapsed": false
   },
   "outputs": [
    {
     "name": "stdout",
     "output_type": "stream",
     "text": [
      "price_doc     5850000.0\n",
      "full_sq            43.0\n",
      "life_sq            27.0\n",
      "floor               4.0\n",
      "max_floor           5.0\n",
      "material            2.0\n",
      "build_year       1963.0\n",
      "num_room            2.0\n",
      "kitch_sq            5.0\n",
      "state               3.0\n",
      "Name: 0, dtype: float64\n",
      " \n",
      "price_doc     6150000.0\n",
      "full_sq            45.0\n",
      "life_sq            29.0\n",
      "floor               4.0\n",
      "max_floor           5.0\n",
      "material            2.0\n",
      "build_year       1963.0\n",
      "num_room            2.0\n",
      "kitch_sq            5.0\n",
      "state               3.0\n",
      "Name: 25181, dtype: float64\n"
     ]
    }
   ],
   "source": [
    "print data.iloc[0]\n",
    "print \" \"\n",
    "print data.iloc[25181]"
   ]
  },
  {
   "cell_type": "markdown",
   "metadata": {},
   "source": [
    "Создадим функцию, которая будет заполнять средним по множеству похожих элементов значением:"
   ]
  },
  {
   "cell_type": "code",
   "execution_count": null,
   "metadata": {
    "collapsed": true
   },
   "outputs": [],
   "source": [
    "def fill_by_neighbors(i, dataset):\n",
    "    fromElem = dataset.iloc[i]\n",
    "    ##Результат < порога\n",
    "    result_set = data.iloc[]"
   ]
  }
 ],
 "metadata": {
  "kernelspec": {
   "display_name": "Python 2",
   "language": "python",
   "name": "python2"
  },
  "language_info": {
   "codemirror_mode": {
    "name": "ipython",
    "version": 2
   },
   "file_extension": ".py",
   "mimetype": "text/x-python",
   "name": "python",
   "nbconvert_exporter": "python",
   "pygments_lexer": "ipython2",
   "version": "2.7.13"
  }
 },
 "nbformat": 4,
 "nbformat_minor": 0
}
